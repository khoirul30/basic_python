{
  "nbformat": 4,
  "nbformat_minor": 0,
  "metadata": {
    "colab": {
      "name": "data_Handling.ipynb",
      "provenance": []
    },
    "kernelspec": {
      "name": "python3",
      "display_name": "Python 3"
    }
  },
  "cells": [
    {
      "cell_type": "markdown",
      "metadata": {
        "id": "45EuSBGgMUNc",
        "colab_type": "text"
      },
      "source": [
        "**Tujuan**:\n",
        "\n",
        "memasukkan data ke sebuah function"
      ]
    },
    {
      "cell_type": "code",
      "metadata": {
        "id": "_z0RGcReLQlC",
        "colab_type": "code",
        "colab": {}
      },
      "source": [
        "def dataHandling(data):\n",
        "    #membuat isi berada di list data\n",
        "    for isi in data:\n",
        "        # len isi adalah sama dengan panjang list di dalamnya list data\n",
        "        for i in range(0, len(isi)):\n",
        "            if i == 0:\n",
        "                print('Nomor ID:', isi[i])\n",
        "            elif i == 1:\n",
        "                print('Nama Lengkap:', isi[i])\n",
        "            elif i ==2:\n",
        "                print('TTL: %s %s' %(isi[i], isi[i+1]))\n",
        "            elif i == 4:\n",
        "                print('Hobi:', isi[i])\n",
        "        print(\" \")"
      ],
      "execution_count": 0,
      "outputs": []
    },
    {
      "cell_type": "code",
      "metadata": {
        "id": "EGxS-khbLlfV",
        "colab_type": "code",
        "colab": {}
      },
      "source": [
        "data = [\n",
        "    [\"0001\", \"Roman Alamsyah\", \"Bandar Lampung\", \"21/05/1989\", \"Membaca\"],\n",
        "    [\"0002\", \"Dika Sembiring\", \"Medan\", \"10/10/1992\", \"Bermain Gitar\"],\n",
        "    [\"0003\", \"Winona\", \"Ambon\", \"25/12/1965\", \"Memasak\"],\n",
        "    [\"0004\", \"Bintang Senjaya\", \"Martapura\", \"6/4/1970\", \"Berkebun\"]\n",
        "]\n"
      ],
      "execution_count": 0,
      "outputs": []
    },
    {
      "cell_type": "code",
      "metadata": {
        "id": "pW5DX8N_LyCp",
        "colab_type": "code",
        "colab": {
          "base_uri": "https://localhost:8080/",
          "height": 357
        },
        "outputId": "0634bfd4-d824-4215-b95b-72a3a4d236f1"
      },
      "source": [
        "dataHandling(data)"
      ],
      "execution_count": 3,
      "outputs": [
        {
          "output_type": "stream",
          "text": [
            "Nomor ID: 0001\n",
            "Nama Lengkap: Roman Alamsyah\n",
            "TTL: Bandar Lampung 21/05/1989\n",
            "Hobi: Membaca\n",
            " \n",
            "Nomor ID: 0002\n",
            "Nama Lengkap: Dika Sembiring\n",
            "TTL: Medan 10/10/1992\n",
            "Hobi: Bermain Gitar\n",
            " \n",
            "Nomor ID: 0003\n",
            "Nama Lengkap: Winona\n",
            "TTL: Ambon 25/12/1965\n",
            "Hobi: Memasak\n",
            " \n",
            "Nomor ID: 0004\n",
            "Nama Lengkap: Bintang Senjaya\n",
            "TTL: Martapura 6/4/1970\n",
            "Hobi: Berkebun\n",
            " \n"
          ],
          "name": "stdout"
        }
      ]
    },
    {
      "cell_type": "code",
      "metadata": {
        "id": "98_46sZZLz2f",
        "colab_type": "code",
        "colab": {}
      },
      "source": [
        ""
      ],
      "execution_count": 0,
      "outputs": []
    }
  ]
}