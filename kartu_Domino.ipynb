{
  "nbformat": 4,
  "nbformat_minor": 0,
  "metadata": {
    "colab": {
      "name": "kartu_Domino.ipynb",
      "provenance": []
    },
    "kernelspec": {
      "name": "python3",
      "display_name": "Python 3"
    }
  },
  "cells": [
    {
      "cell_type": "markdown",
      "metadata": {
        "id": "N4tqqWsKX2FL",
        "colab_type": "text"
      },
      "source": [
        "**Tujuan :**\n",
        "\n",
        "membuat sebuah fungsi kartu domino, dengan 2 parameter yakni kartu dan deck.\n",
        "Kita harus mengeluarkan kartu yang salah satu angka nya sama dengan yang terdapat di deck namun kartu yang harus dikeluarkan jumlahnya harus lebih besar."
      ]
    },
    {
      "cell_type": "code",
      "metadata": {
        "id": "ZULTCl4HXyNg",
        "colab_type": "code",
        "colab": {}
      },
      "source": [
        "def dominoCard(kartu, deck):\n",
        "  maks = -99999999\n",
        "  ans = []\n",
        "  for i in range(len(kartu)):\n",
        "    if kartu[i][0] in deck or kartu[i][1] in deck:\n",
        "      jml = kartu[i][0] + kartu[i][1]\n",
        "      if jml > maks:\n",
        "        maks = jml\n",
        "        ans = kartu[i]\n",
        "\n",
        "  if ans != []:\n",
        "    print(\"keluarkan kartu\", ans)\n",
        "  else:\n",
        "    print('tutup 1 kartu')"
      ],
      "execution_count": 0,
      "outputs": []
    },
    {
      "cell_type": "code",
      "metadata": {
        "id": "UwK3fYrcY2zu",
        "colab_type": "code",
        "colab": {
          "base_uri": "https://localhost:8080/",
          "height": 34
        },
        "outputId": "d6fef470-f21f-4d6d-eebd-9d502c0b14b9"
      },
      "source": [
        "dominoCard([[3,3],[6,5],[3,4],[2,1]], [3,5]) # \"keluarkan kartu [6,5]\""
      ],
      "execution_count": 2,
      "outputs": [
        {
          "output_type": "stream",
          "text": [
            "keluarkan kartu [6, 5]\n"
          ],
          "name": "stdout"
        }
      ]
    },
    {
      "cell_type": "code",
      "metadata": {
        "id": "GLA4sMWHY6X0",
        "colab_type": "code",
        "colab": {
          "base_uri": "https://localhost:8080/",
          "height": 34
        },
        "outputId": "64560dc1-f5c0-434c-d27d-3ad0ae896c5c"
      },
      "source": [
        "dominoCard([[3,3],[6,5],[3,4],[2,1]], [1,3]) # \"keluarkan kartu [3,4]\""
      ],
      "execution_count": 3,
      "outputs": [
        {
          "output_type": "stream",
          "text": [
            "keluarkan kartu [3, 4]\n"
          ],
          "name": "stdout"
        }
      ]
    },
    {
      "cell_type": "code",
      "metadata": {
        "id": "eNsXROduY8Ic",
        "colab_type": "code",
        "colab": {
          "base_uri": "https://localhost:8080/",
          "height": 34
        },
        "outputId": "eba9e0de-3a9d-4b04-b695-8976661e19bb"
      },
      "source": [
        "dominoCard([[2,4],[6,6],[3,6]], [1,5]) # \"tutup 1 kartu\""
      ],
      "execution_count": 4,
      "outputs": [
        {
          "output_type": "stream",
          "text": [
            "tutup 1 kartu\n"
          ],
          "name": "stdout"
        }
      ]
    },
    {
      "cell_type": "code",
      "metadata": {
        "id": "G5dWHdjcY9G2",
        "colab_type": "code",
        "colab": {}
      },
      "source": [
        ""
      ],
      "execution_count": 0,
      "outputs": []
    }
  ]
}