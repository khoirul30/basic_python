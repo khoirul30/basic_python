{
  "nbformat": 4,
  "nbformat_minor": 0,
  "metadata": {
    "colab": {
      "name": "cek_prima.ipynb",
      "provenance": []
    },
    "kernelspec": {
      "name": "python3",
      "display_name": "Python 3"
    }
  },
  "cells": [
    {
      "cell_type": "markdown",
      "metadata": {
        "id": "kPdbO1gVg18P",
        "colab_type": "text"
      },
      "source": [
        "**Tujuan :**\n",
        "\n",
        "Membuat sebuah function untuk mengecek apakah bilangan yang dimasukkan kedalam parameter function tersebut adalah bilangan prima"
      ]
    },
    {
      "cell_type": "code",
      "metadata": {
        "id": "LYQRCvWbfpo8",
        "colab_type": "code",
        "colab": {}
      },
      "source": [
        "def angkaPrima(angka):\n",
        "    if angka > 1:\n",
        "        for i in range(2, angka):\n",
        "            if angka % i ==0:\n",
        "                return ('False')\n",
        "                break\n",
        "        else:\n",
        "            return ('True')\n",
        "    else:\n",
        "        return ('False')"
      ],
      "execution_count": 0,
      "outputs": []
    },
    {
      "cell_type": "code",
      "metadata": {
        "id": "zXjc7-QWgK5n",
        "colab_type": "code",
        "colab": {
          "base_uri": "https://localhost:8080/",
          "height": 34
        },
        "outputId": "8dcc8c7f-81d9-4be8-825a-3c2878099bad"
      },
      "source": [
        "print(angkaPrima(1)) # False"
      ],
      "execution_count": 7,
      "outputs": [
        {
          "output_type": "stream",
          "text": [
            "False\n"
          ],
          "name": "stdout"
        }
      ]
    },
    {
      "cell_type": "code",
      "metadata": {
        "id": "abTfQjiGhJdB",
        "colab_type": "code",
        "colab": {
          "base_uri": "https://localhost:8080/",
          "height": 34
        },
        "outputId": "458c7b17-9b0f-467e-ddd2-31c2931f4232"
      },
      "source": [
        "print(angkaPrima(2)) # True"
      ],
      "execution_count": 8,
      "outputs": [
        {
          "output_type": "stream",
          "text": [
            "True\n"
          ],
          "name": "stdout"
        }
      ]
    },
    {
      "cell_type": "code",
      "metadata": {
        "id": "WorTvwrXhNEK",
        "colab_type": "code",
        "colab": {
          "base_uri": "https://localhost:8080/",
          "height": 34
        },
        "outputId": "13fcacf3-82a0-4db6-d9d6-235793e01311"
      },
      "source": [
        "print(angkaPrima(3)) # True"
      ],
      "execution_count": 9,
      "outputs": [
        {
          "output_type": "stream",
          "text": [
            "True\n"
          ],
          "name": "stdout"
        }
      ]
    },
    {
      "cell_type": "code",
      "metadata": {
        "id": "aK1wGUfghOU7",
        "colab_type": "code",
        "colab": {
          "base_uri": "https://localhost:8080/",
          "height": 34
        },
        "outputId": "685b787a-69b1-417a-9154-f644c3dac883"
      },
      "source": [
        "print(angkaPrima(7)) # True"
      ],
      "execution_count": 10,
      "outputs": [
        {
          "output_type": "stream",
          "text": [
            "True\n"
          ],
          "name": "stdout"
        }
      ]
    },
    {
      "cell_type": "code",
      "metadata": {
        "id": "de7SDQ3WhPPN",
        "colab_type": "code",
        "colab": {
          "base_uri": "https://localhost:8080/",
          "height": 34
        },
        "outputId": "bfe7e7ff-fff9-4715-d6a3-2cd53b2c4b49"
      },
      "source": [
        "print(angkaPrima(6)) # False"
      ],
      "execution_count": 11,
      "outputs": [
        {
          "output_type": "stream",
          "text": [
            "False\n"
          ],
          "name": "stdout"
        }
      ]
    },
    {
      "cell_type": "code",
      "metadata": {
        "id": "OAF2SNTphS98",
        "colab_type": "code",
        "colab": {
          "base_uri": "https://localhost:8080/",
          "height": 34
        },
        "outputId": "911423b8-7ad0-412f-be9e-4cd70f6cfd56"
      },
      "source": [
        "print(angkaPrima(23)) # True"
      ],
      "execution_count": 12,
      "outputs": [
        {
          "output_type": "stream",
          "text": [
            "True\n"
          ],
          "name": "stdout"
        }
      ]
    },
    {
      "cell_type": "code",
      "metadata": {
        "id": "kDcUur-qhUF-",
        "colab_type": "code",
        "colab": {
          "base_uri": "https://localhost:8080/",
          "height": 34
        },
        "outputId": "22a79cdb-f12a-4de3-a090-f0a1d02a5479"
      },
      "source": [
        "print(angkaPrima(33)) # False"
      ],
      "execution_count": 13,
      "outputs": [
        {
          "output_type": "stream",
          "text": [
            "False\n"
          ],
          "name": "stdout"
        }
      ]
    },
    {
      "cell_type": "code",
      "metadata": {
        "id": "k69oGdMUhU7-",
        "colab_type": "code",
        "colab": {}
      },
      "source": [
        ""
      ],
      "execution_count": 0,
      "outputs": []
    }
  ]
}