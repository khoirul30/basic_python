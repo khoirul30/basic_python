{
  "nbformat": 4,
  "nbformat_minor": 0,
  "metadata": {
    "colab": {
      "name": "bilangan_prima_ke_x.ipynb",
      "provenance": []
    },
    "kernelspec": {
      "name": "python3",
      "display_name": "Python 3"
    }
  },
  "cells": [
    {
      "cell_type": "markdown",
      "metadata": {
        "id": "srDFJw2zZeUF",
        "colab_type": "text"
      },
      "source": [
        "**Tujuan :**\n",
        "\n",
        "Membuat sebuah function untuk mengetahui barisan bilangan prima dengan memasukkan 1 parameter. Parameter ini berfungsi untuk barisan keberapa pada bilangan prima yang kita inginkan.\n",
        "\n",
        "contoh: \n",
        "\n",
        "print bilangan prima ke 5. maka secara otomatis akan print angka 11. Karena bilangan prima pada barisan ke 5 adalah 11."
      ]
    },
    {
      "cell_type": "code",
      "metadata": {
        "id": "TBOVXJrpZBrc",
        "colab_type": "code",
        "colab": {}
      },
      "source": [
        "# untuk mengecek apakah bilangan tersebut bilangan prima atau bukan\n",
        "def is_prime(num):\n",
        "  cnt = 0\n",
        "  for i in range(1,num+1):\n",
        "    if num % i == 0:\n",
        "      cnt += 1\n",
        "  return cnt == 2\n",
        "\n",
        "def getPrime(X):\n",
        "  ans = 0\n",
        "  for i in range(1, X+1):\n",
        "    ans += 1\n",
        "    while not is_prime(ans):\n",
        "      ans += 1\n",
        "  return ans"
      ],
      "execution_count": 0,
      "outputs": []
    },
    {
      "cell_type": "code",
      "metadata": {
        "id": "yD9-nHYPaQP1",
        "colab_type": "code",
        "colab": {
          "base_uri": "https://localhost:8080/",
          "height": 34
        },
        "outputId": "ff2348e4-3fba-439b-c8c9-8deec04c54d9"
      },
      "source": [
        "print(getPrime(1)) "
      ],
      "execution_count": 2,
      "outputs": [
        {
          "output_type": "stream",
          "text": [
            "2\n"
          ],
          "name": "stdout"
        }
      ]
    },
    {
      "cell_type": "code",
      "metadata": {
        "id": "gj3AJYtEaVa6",
        "colab_type": "code",
        "colab": {
          "base_uri": "https://localhost:8080/",
          "height": 34
        },
        "outputId": "15a144a9-8ccc-4d09-dbdd-537fec19be4e"
      },
      "source": [
        "print(getPrime(5)) "
      ],
      "execution_count": 3,
      "outputs": [
        {
          "output_type": "stream",
          "text": [
            "11\n"
          ],
          "name": "stdout"
        }
      ]
    },
    {
      "cell_type": "code",
      "metadata": {
        "id": "QrqWsPFPaWh-",
        "colab_type": "code",
        "colab": {
          "base_uri": "https://localhost:8080/",
          "height": 34
        },
        "outputId": "453c2736-340d-439f-cc9e-f5252913af01"
      },
      "source": [
        "print(getPrime(8)) "
      ],
      "execution_count": 4,
      "outputs": [
        {
          "output_type": "stream",
          "text": [
            "19\n"
          ],
          "name": "stdout"
        }
      ]
    },
    {
      "cell_type": "code",
      "metadata": {
        "id": "TkBuimaBaX9p",
        "colab_type": "code",
        "colab": {
          "base_uri": "https://localhost:8080/",
          "height": 34
        },
        "outputId": "d6f4bd5c-ee43-469a-d4d1-1a91e8fe356a"
      },
      "source": [
        "print(getPrime(9)) "
      ],
      "execution_count": 5,
      "outputs": [
        {
          "output_type": "stream",
          "text": [
            "23\n"
          ],
          "name": "stdout"
        }
      ]
    },
    {
      "cell_type": "code",
      "metadata": {
        "id": "axce3PhLaZFY",
        "colab_type": "code",
        "colab": {
          "base_uri": "https://localhost:8080/",
          "height": 34
        },
        "outputId": "1dca2859-13dc-4113-91aa-f7e330cfcf06"
      },
      "source": [
        "print(getPrime(10)) "
      ],
      "execution_count": 6,
      "outputs": [
        {
          "output_type": "stream",
          "text": [
            "29\n"
          ],
          "name": "stdout"
        }
      ]
    },
    {
      "cell_type": "code",
      "metadata": {
        "id": "W9LIS4cgaaV0",
        "colab_type": "code",
        "colab": {
          "base_uri": "https://localhost:8080/",
          "height": 34
        },
        "outputId": "ba6da9f9-c08e-4922-8994-a0c6e490ebc0"
      },
      "source": [
        "print(getPrime(999))"
      ],
      "execution_count": 7,
      "outputs": [
        {
          "output_type": "stream",
          "text": [
            "7907\n"
          ],
          "name": "stdout"
        }
      ]
    },
    {
      "cell_type": "code",
      "metadata": {
        "id": "zUBoO1aaabXR",
        "colab_type": "code",
        "colab": {}
      },
      "source": [
        ""
      ],
      "execution_count": 0,
      "outputs": []
    }
  ]
}