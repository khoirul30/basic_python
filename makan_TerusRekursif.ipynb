{
  "nbformat": 4,
  "nbformat_minor": 0,
  "metadata": {
    "colab": {
      "name": "makan_TerusRekursif.ipynb",
      "provenance": []
    },
    "kernelspec": {
      "name": "python3",
      "display_name": "Python 3"
    }
  },
  "cells": [
    {
      "cell_type": "markdown",
      "metadata": {
        "id": "dcCLSxaCR-qE",
        "colab_type": "text"
      },
      "source": [
        "**Tujuan** :\n",
        "\n",
        "Didalam suatu rumah terdapat seekor tikus yang suka makan. Ia makan 15 menit sekali. Disini kita mencari tahu berapa kali tikus ini makan dengan melakukan input waktunya.\n",
        "\n",
        "contoh :\n",
        "\n",
        "Dalam 10 menit tikus pasti sudah makan sebanyak 1 kali.\n",
        "\n",
        "Dalam 20 menit tikus sudah makan sebanyak 2 kali."
      ]
    },
    {
      "cell_type": "code",
      "metadata": {
        "id": "fS2-y2EFRrm7",
        "colab_type": "code",
        "colab": {}
      },
      "source": [
        "def makanTerusRekursif(waktu):\n",
        "    if waktu > 0:\n",
        "        time = 1 + makanTerusRekursif(waktu-15)\n",
        "        return time\n",
        "    else:\n",
        "        return 0"
      ],
      "execution_count": 0,
      "outputs": []
    },
    {
      "cell_type": "code",
      "metadata": {
        "id": "uI4kwpAtSr2S",
        "colab_type": "code",
        "colab": {
          "base_uri": "https://localhost:8080/",
          "height": 102
        },
        "outputId": "0e5b76dc-dac2-4044-d11b-2a4233cab451"
      },
      "source": [
        "print(makanTerusRekursif(66))   #5\n",
        "print(makanTerusRekursif(100))  #7\n",
        "print(makanTerusRekursif(90))   #6\n",
        "print(makanTerusRekursif(10))   #1\n",
        "print(makanTerusRekursif(0))    #0"
      ],
      "execution_count": 3,
      "outputs": [
        {
          "output_type": "stream",
          "text": [
            "5\n",
            "7\n",
            "6\n",
            "1\n",
            "0\n"
          ],
          "name": "stdout"
        }
      ]
    },
    {
      "cell_type": "code",
      "metadata": {
        "id": "UzORK14JS12d",
        "colab_type": "code",
        "colab": {}
      },
      "source": [
        ""
      ],
      "execution_count": 0,
      "outputs": []
    }
  ]
}