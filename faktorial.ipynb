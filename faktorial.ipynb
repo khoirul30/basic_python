{
  "nbformat": 4,
  "nbformat_minor": 0,
  "metadata": {
    "colab": {
      "name": "faktorial.ipynb",
      "provenance": []
    },
    "kernelspec": {
      "name": "python3",
      "display_name": "Python 3"
    }
  },
  "cells": [
    {
      "cell_type": "markdown",
      "metadata": {
        "id": "Orn6BtrS2_du",
        "colab_type": "text"
      },
      "source": [
        "**Tujuan :**\n",
        "\n",
        "membuat sebuah faktorial dari sebuah angka.\n",
        "\n",
        "contoh :\n",
        "\n",
        "5! = 5 x 4 x 3 x 2 x 1"
      ]
    },
    {
      "cell_type": "code",
      "metadata": {
        "id": "HrQgRgk817TG",
        "colab_type": "code",
        "colab": {}
      },
      "source": [
        "def faktorial(x):\n",
        "    a = 1\n",
        "    for i in range(1,x+1):\n",
        "        a = i * a\n",
        "    print (a)"
      ],
      "execution_count": 0,
      "outputs": []
    },
    {
      "cell_type": "code",
      "metadata": {
        "id": "iasif4uX3OHT",
        "colab_type": "code",
        "colab": {
          "base_uri": "https://localhost:8080/",
          "height": 34
        },
        "outputId": "a007764c-c0fa-4c3c-bb3c-2b4e3819dd4c"
      },
      "source": [
        "faktorial(7)"
      ],
      "execution_count": 3,
      "outputs": [
        {
          "output_type": "stream",
          "text": [
            "5040\n"
          ],
          "name": "stdout"
        }
      ]
    },
    {
      "cell_type": "code",
      "metadata": {
        "id": "JNC1h4cs3TxV",
        "colab_type": "code",
        "colab": {
          "base_uri": "https://localhost:8080/",
          "height": 34
        },
        "outputId": "1111d487-4f03-4cbc-b2c9-bd7ae75d6bd2"
      },
      "source": [
        "faktorial(8)"
      ],
      "execution_count": 4,
      "outputs": [
        {
          "output_type": "stream",
          "text": [
            "40320\n"
          ],
          "name": "stdout"
        }
      ]
    },
    {
      "cell_type": "code",
      "metadata": {
        "id": "DU6q4I8M3Xwq",
        "colab_type": "code",
        "colab": {
          "base_uri": "https://localhost:8080/",
          "height": 34
        },
        "outputId": "703eaa46-9b9c-4dfb-b0be-ee8140d49ec5"
      },
      "source": [
        "faktorial(4)"
      ],
      "execution_count": 5,
      "outputs": [
        {
          "output_type": "stream",
          "text": [
            "24\n"
          ],
          "name": "stdout"
        }
      ]
    },
    {
      "cell_type": "code",
      "metadata": {
        "id": "0_HzXEov3Z3n",
        "colab_type": "code",
        "colab": {
          "base_uri": "https://localhost:8080/",
          "height": 34
        },
        "outputId": "ced863cf-752f-46f7-fa89-57a2c6d1cfa9"
      },
      "source": [
        "faktorial(5)"
      ],
      "execution_count": 6,
      "outputs": [
        {
          "output_type": "stream",
          "text": [
            "120\n"
          ],
          "name": "stdout"
        }
      ]
    },
    {
      "cell_type": "code",
      "metadata": {
        "id": "kwWb4DQp3by4",
        "colab_type": "code",
        "colab": {}
      },
      "source": [
        ""
      ],
      "execution_count": 0,
      "outputs": []
    }
  ]
}