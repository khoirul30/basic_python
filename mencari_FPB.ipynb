{
  "nbformat": 4,
  "nbformat_minor": 0,
  "metadata": {
    "colab": {
      "name": "mencari_FPB.ipynb",
      "provenance": []
    },
    "kernelspec": {
      "name": "python3",
      "display_name": "Python 3"
    }
  },
  "cells": [
    {
      "cell_type": "markdown",
      "metadata": {
        "id": "kP73xAuutbpA",
        "colab_type": "text"
      },
      "source": [
        "**Tujuan :**\n",
        "\n",
        "Mencari nilai FPB dari 2 bilangan"
      ]
    },
    {
      "cell_type": "code",
      "metadata": {
        "id": "MVD-WtmTtS7-",
        "colab_type": "code",
        "colab": {}
      },
      "source": [
        "def fpb(bil1, bil2):\n",
        "    if bil1 > bil2:\n",
        "        kecil = bil2\n",
        "    else:\n",
        "        kecil = bil1\n",
        "    for i in range(1, kecil+1):\n",
        "        if((bil1 % i == 0) and (bil2 % i == 0)):\n",
        "            fpb = i            \n",
        "    return fpb"
      ],
      "execution_count": 0,
      "outputs": []
    },
    {
      "cell_type": "code",
      "metadata": {
        "id": "TLSFwcfFtqby",
        "colab_type": "code",
        "colab": {
          "base_uri": "https://localhost:8080/",
          "height": 34
        },
        "outputId": "6e35e06b-316d-4c00-96a5-4070e47fe8d8"
      },
      "source": [
        "print(fpb(12, 16)) "
      ],
      "execution_count": 3,
      "outputs": [
        {
          "output_type": "stream",
          "text": [
            "4\n"
          ],
          "name": "stdout"
        }
      ]
    },
    {
      "cell_type": "code",
      "metadata": {
        "id": "bWnMwzPOtyDu",
        "colab_type": "code",
        "colab": {
          "base_uri": "https://localhost:8080/",
          "height": 34
        },
        "outputId": "369c419f-feab-4926-cd74-be1366b46894"
      },
      "source": [
        "print(fpb(50, 40)) "
      ],
      "execution_count": 4,
      "outputs": [
        {
          "output_type": "stream",
          "text": [
            "10\n"
          ],
          "name": "stdout"
        }
      ]
    },
    {
      "cell_type": "code",
      "metadata": {
        "id": "tqiHXwUNt1vE",
        "colab_type": "code",
        "colab": {
          "base_uri": "https://localhost:8080/",
          "height": 34
        },
        "outputId": "b542b210-705f-4dd9-f1b2-fd305f1fdd73"
      },
      "source": [
        "print(fpb(22, 99)) "
      ],
      "execution_count": 5,
      "outputs": [
        {
          "output_type": "stream",
          "text": [
            "11\n"
          ],
          "name": "stdout"
        }
      ]
    },
    {
      "cell_type": "code",
      "metadata": {
        "id": "4QsP3U-0t26x",
        "colab_type": "code",
        "colab": {
          "base_uri": "https://localhost:8080/",
          "height": 34
        },
        "outputId": "39943aef-08b7-412b-8249-256d57af5d6f"
      },
      "source": [
        "print(fpb(24, 36))"
      ],
      "execution_count": 6,
      "outputs": [
        {
          "output_type": "stream",
          "text": [
            "12\n"
          ],
          "name": "stdout"
        }
      ]
    },
    {
      "cell_type": "code",
      "metadata": {
        "id": "ySW1Ii6Mt4Ia",
        "colab_type": "code",
        "colab": {
          "base_uri": "https://localhost:8080/",
          "height": 34
        },
        "outputId": "97905ed9-ccfe-48d7-bf86-eab7d06f1ca3"
      },
      "source": [
        "print(fpb(17, 23)) "
      ],
      "execution_count": 7,
      "outputs": [
        {
          "output_type": "stream",
          "text": [
            "1\n"
          ],
          "name": "stdout"
        }
      ]
    },
    {
      "cell_type": "code",
      "metadata": {
        "id": "ixbG69oet5CM",
        "colab_type": "code",
        "colab": {}
      },
      "source": [
        ""
      ],
      "execution_count": 0,
      "outputs": []
    }
  ]
}