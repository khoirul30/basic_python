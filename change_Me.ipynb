{
  "nbformat": 4,
  "nbformat_minor": 0,
  "metadata": {
    "colab": {
      "name": "change_Me.ipynb",
      "provenance": [],
      "collapsed_sections": []
    },
    "kernelspec": {
      "name": "python3",
      "display_name": "Python 3"
    }
  },
  "cells": [
    {
      "cell_type": "markdown",
      "metadata": {
        "id": "vKt1Mml5SpaG",
        "colab_type": "text"
      },
      "source": [
        "**Tujuan** :\n",
        "\n",
        "membuat sebuah function, yang mana function nya bisa mengeluarkan output \n",
        "\n",
        "nama depan , nama belakang :\n",
        "\n",
        "{firstname : .... , lastname : .... , gender : .... , age : ....}\n",
        "\n",
        "jadi kita memasukkan list ke dalam function yang mana list tersebut berisi :\n",
        "\n",
        "[firstname, lastname, gender, tahun lahir]"
      ]
    },
    {
      "cell_type": "code",
      "metadata": {
        "id": "EnDwS5OrTY33",
        "colab_type": "code",
        "colab": {}
      },
      "source": [
        "def changeMe(arr):\n",
        "    isi = []\n",
        "    if arr == isi:\n",
        "        print(' \"\" ')\n",
        "    else:\n",
        "        for i in arr:\n",
        "            # mencari umur\n",
        "            if len(i) != 4 or i[3] > 2018:\n",
        "                umur = 'Invalid Birth year'  \n",
        "            else:\n",
        "                umur = 2018 - i[3]\n",
        "            output = {'firstname' : i[0], 'lastname' : i[1], 'gender' : i[2], 'age' : umur}\n",
        "            gabung = i[0]+' '+i[1]\n",
        "            print (gabung,':')\n",
        "            print (output)"
      ],
      "execution_count": 0,
      "outputs": []
    },
    {
      "cell_type": "code",
      "metadata": {
        "id": "A71mqghQTpfP",
        "colab_type": "code",
        "colab": {
          "base_uri": "https://localhost:8080/",
          "height": 102
        },
        "outputId": "67807f34-c9c2-48c7-b2aa-3b0755718cc6"
      },
      "source": [
        "#drive code\n",
        "changeMe([['Christ', 'Evans', 'Male', 1982],['Robert', 'Downey', 'Male']])\n",
        "changeMe([])\n"
      ],
      "execution_count": 2,
      "outputs": [
        {
          "output_type": "stream",
          "text": [
            "Christ Evans :\n",
            "{'firstname': 'Christ', 'lastname': 'Evans', 'gender': 'Male', 'age': 36}\n",
            "Robert Downey :\n",
            "{'firstname': 'Robert', 'lastname': 'Downey', 'gender': 'Male', 'age': 'Invalid Birth year'}\n",
            " \"\" \n"
          ],
          "name": "stdout"
        }
      ]
    },
    {
      "cell_type": "code",
      "metadata": {
        "id": "qm0ho352UCMY",
        "colab_type": "code",
        "colab": {}
      },
      "source": [
        ""
      ],
      "execution_count": 0,
      "outputs": []
    }
  ]
}