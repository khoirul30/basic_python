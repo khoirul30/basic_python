{
  "nbformat": 4,
  "nbformat_minor": 0,
  "metadata": {
    "colab": {
      "name": "membuat_border.ipynb",
      "provenance": []
    },
    "kernelspec": {
      "name": "python3",
      "display_name": "Python 3"
    }
  },
  "cells": [
    {
      "cell_type": "code",
      "metadata": {
        "id": "4j8SrLHxa-6R",
        "colab_type": "code",
        "colab": {}
      },
      "source": [
        "def generateBorderBox(box):\n",
        "  mid = box // 2 + 1\n",
        "  for i in range(1, box + 1):\n",
        "    for j in range(1, box + 1):\n",
        "      if i == 1 or i == box or j == 1 or j == box or ((i == 3 or i == box-2) and j != 2 and j != box-1) or ((j == 3 or j == box-2 ) and i != 2 and i != box-1): \n",
        "        print('I', end='')\n",
        "      elif i == mid and j == mid:\n",
        "        print('*', end='')\n",
        "      else:\n",
        "        print(' ', end='')\n",
        "      \n",
        "    print()\n",
        "  print()\n",
        " "
      ],
      "execution_count": 0,
      "outputs": []
    },
    {
      "cell_type": "code",
      "metadata": {
        "id": "zsek1BNCfFNG",
        "colab_type": "code",
        "colab": {}
      },
      "source": [
        "# output yang dihasilkan harus seperti ini\n",
        "\n",
        "'''\n",
        "IIIIIIIII\n",
        "I       I\n",
        "I IIIII I\n",
        "I I   I I\n",
        "I I * I I\n",
        "I I   I I\n",
        "I IIIII I\n",
        "I       I\n",
        "IIIIIIIII\n",
        "'''"
      ],
      "execution_count": 0,
      "outputs": []
    },
    {
      "cell_type": "code",
      "metadata": {
        "id": "BNbHyPtUcDiI",
        "colab_type": "code",
        "colab": {
          "base_uri": "https://localhost:8080/",
          "height": 187
        },
        "outputId": "250abe63-c73b-4fbf-8a8f-6bb9ea16b04e"
      },
      "source": [
        "generateBorderBox(9)"
      ],
      "execution_count": 5,
      "outputs": [
        {
          "output_type": "stream",
          "text": [
            "IIIIIIIII\n",
            "I       I\n",
            "I IIIII I\n",
            "I I   I I\n",
            "I I * I I\n",
            "I I   I I\n",
            "I IIIII I\n",
            "I       I\n",
            "IIIIIIIII\n",
            "\n"
          ],
          "name": "stdout"
        }
      ]
    },
    {
      "cell_type": "code",
      "metadata": {
        "id": "iOdQ0YBTfalI",
        "colab_type": "code",
        "colab": {}
      },
      "source": [
        "'''\n",
        "IIIIIIIIIIIII\n",
        "I           I\n",
        "I IIIIIIIII I\n",
        "I I       I I\n",
        "I I       I I\n",
        "I I       I I\n",
        "I I   *   I I\n",
        "I I       I I\n",
        "I I       I I\n",
        "I I       I I\n",
        "I IIIIIIIII I\n",
        "I           I\n",
        "IIIIIIIIIIIII\n",
        "'''\n"
      ],
      "execution_count": 0,
      "outputs": []
    },
    {
      "cell_type": "code",
      "metadata": {
        "id": "zRmPpCOqfc7q",
        "colab_type": "code",
        "colab": {
          "base_uri": "https://localhost:8080/",
          "height": 255
        },
        "outputId": "1e73fce4-4fec-4fc2-8eac-1991b0ae1f53"
      },
      "source": [
        "generateBorderBox(13)"
      ],
      "execution_count": 4,
      "outputs": [
        {
          "output_type": "stream",
          "text": [
            "IIIIIIIIIIIII\n",
            "I           I\n",
            "I IIIIIIIII I\n",
            "I I       I I\n",
            "I I       I I\n",
            "I I       I I\n",
            "I I   *   I I\n",
            "I I       I I\n",
            "I I       I I\n",
            "I I       I I\n",
            "I IIIIIIIII I\n",
            "I           I\n",
            "IIIIIIIIIIIII\n",
            "\n"
          ],
          "name": "stdout"
        }
      ]
    },
    {
      "cell_type": "code",
      "metadata": {
        "id": "ArubTEGdfdin",
        "colab_type": "code",
        "colab": {}
      },
      "source": [
        "'''\n",
        "IIIIIIIIIIIIIIIIIIIIIII\n",
        "I                     I\n",
        "I IIIIIIIIIIIIIIIIIII I\n",
        "I I                 I I\n",
        "I I                 I I\n",
        "I I                 I I\n",
        "I I                 I I\n",
        "I I                 I I\n",
        "I I                 I I\n",
        "I I                 I I\n",
        "I I                 I I\n",
        "I I        *        I I\n",
        "I I                 I I\n",
        "I I                 I I\n",
        "I I                 I I\n",
        "I I                 I I\n",
        "I I                 I I\n",
        "I I                 I I\n",
        "I I                 I I\n",
        "I I                 I I\n",
        "I IIIIIIIIIIIIIIIIIII I\n",
        "I                     I\n",
        "IIIIIIIIIIIIIIIIIIIIIII\n",
        "'''"
      ],
      "execution_count": 0,
      "outputs": []
    },
    {
      "cell_type": "code",
      "metadata": {
        "id": "wCBeSwmifkP2",
        "colab_type": "code",
        "colab": {
          "base_uri": "https://localhost:8080/",
          "height": 425
        },
        "outputId": "cd3da1aa-2a82-4240-eeea-7631240c3a01"
      },
      "source": [
        "generateBorderBox(23)"
      ],
      "execution_count": 6,
      "outputs": [
        {
          "output_type": "stream",
          "text": [
            "IIIIIIIIIIIIIIIIIIIIIII\n",
            "I                     I\n",
            "I IIIIIIIIIIIIIIIIIII I\n",
            "I I                 I I\n",
            "I I                 I I\n",
            "I I                 I I\n",
            "I I                 I I\n",
            "I I                 I I\n",
            "I I                 I I\n",
            "I I                 I I\n",
            "I I                 I I\n",
            "I I        *        I I\n",
            "I I                 I I\n",
            "I I                 I I\n",
            "I I                 I I\n",
            "I I                 I I\n",
            "I I                 I I\n",
            "I I                 I I\n",
            "I I                 I I\n",
            "I I                 I I\n",
            "I IIIIIIIIIIIIIIIIIII I\n",
            "I                     I\n",
            "IIIIIIIIIIIIIIIIIIIIIII\n",
            "\n"
          ],
          "name": "stdout"
        }
      ]
    },
    {
      "cell_type": "code",
      "metadata": {
        "id": "fjd5BL_wfk78",
        "colab_type": "code",
        "colab": {}
      },
      "source": [
        ""
      ],
      "execution_count": 0,
      "outputs": []
    }
  ]
}