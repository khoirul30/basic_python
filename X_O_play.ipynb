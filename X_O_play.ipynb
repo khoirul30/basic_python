{
  "nbformat": 4,
  "nbformat_minor": 0,
  "metadata": {
    "colab": {
      "name": "X_O_play.ipynb",
      "provenance": []
    },
    "kernelspec": {
      "name": "python3",
      "display_name": "Python 3"
    }
  },
  "cells": [
    {
      "cell_type": "markdown",
      "metadata": {
        "id": "Wy9pb_9h1X6K",
        "colab_type": "text"
      },
      "source": [
        "**Tujuan :**\n",
        "\n",
        "Membuat sebuah permainan kata, dimana akan menghasilkan output True apabila huruf x dan o di sebuah kata mempunyai jumlah yang sama."
      ]
    },
    {
      "cell_type": "code",
      "metadata": {
        "id": "YA0TxlH30dip",
        "colab_type": "code",
        "colab": {
          "base_uri": "https://localhost:8080/",
          "height": 119
        },
        "outputId": "ad49c126-9dd6-4411-d373-2a03d60358f9"
      },
      "source": [
        "def xo(str):\n",
        "    # melakukan pemisalan variabel\n",
        "    konsonan = \"x\"\n",
        "    vokal = \"o\"\n",
        "    # dilakukan pemisalan yang digunakan untuk \n",
        "    # tempat menaruh penjumlahan ketika masuk di for\n",
        "    jumlah_konsonan = \"\"\n",
        "    jumlah_vokal = \"\"\n",
        "    for karakter in str:\n",
        "        #jika huruf nya sama dengan x maka jumlah vokal ditambah karakternya o\n",
        "        if karakter in vokal:\n",
        "            jumlah_vokal += karakter\n",
        "        # jika huruf nya sama dengan konsonan maka jumlah konsonan diisi dengan x\n",
        "        elif karakter in konsonan:\n",
        "            jumlah_konsonan += karakter\n",
        "    #pengecekan apakah jumlah konsonan dan vokal sama atau tidak\n",
        "    if len(jumlah_konsonan) == len(jumlah_vokal):\n",
        "        print (\"True\")\n",
        "    else:\n",
        "        print(\"False\")\n",
        "\n",
        "\n",
        "print(\"\"\"inilah adalah sebuah permainan, \n",
        "dimana permainan ini melihat apakah karakter x \n",
        "dan O banyaknya sama atau tidak. apabila sama \n",
        "maka akan di print True. apabila tidak sama maka False\"\"\")\n",
        "string = str(input('masukkan kata yang anda inginkan : '))\n",
        "xo(string)\n"
      ],
      "execution_count": 1,
      "outputs": [
        {
          "output_type": "stream",
          "text": [
            "inilah adalah sebuah permainan, \n",
            "dimana permainan ini melihat apakah karakter x \n",
            "dan O banyaknya sama atau tidak. apabila sama \n",
            "maka akan di print True. apabila tidak sama maka False\n",
            "masukkan kata yang anda inginkan : xoxo\n",
            "True\n"
          ],
          "name": "stdout"
        }
      ]
    },
    {
      "cell_type": "code",
      "metadata": {
        "id": "cdR_baRg1uMj",
        "colab_type": "code",
        "colab": {}
      },
      "source": [
        ""
      ],
      "execution_count": 0,
      "outputs": []
    }
  ]
}