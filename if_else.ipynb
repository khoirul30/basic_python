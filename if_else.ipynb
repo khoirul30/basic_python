{
  "nbformat": 4,
  "nbformat_minor": 0,
  "metadata": {
    "colab": {
      "name": "if_else.ipynb",
      "provenance": []
    },
    "kernelspec": {
      "name": "python3",
      "display_name": "Python 3"
    }
  },
  "cells": [
    {
      "cell_type": "markdown",
      "metadata": {
        "id": "u8vCP5knssUi",
        "colab_type": "text"
      },
      "source": [
        "**Tujuan :**\n",
        "\n",
        "Membuat sebuah permainan sederhana dengan memanfaatkan if"
      ]
    },
    {
      "cell_type": "code",
      "metadata": {
        "id": "4dDxBJ7kr8pB",
        "colab_type": "code",
        "colab": {
          "base_uri": "https://localhost:8080/",
          "height": 204
        },
        "outputId": "1ceee49f-8992-4080-d741-a62ff3455056"
      },
      "source": [
        "cdnama  = ''\n",
        "peran = ''\n",
        "\n",
        "#menampilkan prolog\n",
        "print (\"\"\"\n",
        "Selamat datang, ini adalah game Proxytia, \n",
        "disini ada 3 peran yang harus kamu pilih. \n",
        "Diantaranya ada Ksatria, Tabib, Penyihir\n",
        "\"\"\")\n",
        "\n",
        "#masuk dalam suatu kondisi\n",
        "#apabila perannya ksatria maka akan menjalankan program ini \n",
        "if peran == 'Ksatria':\n",
        "    print ('selamat datang di Dunia Proxytia, ' + str(nama))\n",
        "    print ('Halo ' + str(peran)+ ' ' + str(nama) + ', kamu dapat menyerang dengan senjatamu!')\n",
        "#apabila perannya Tabib maka akan menjalankan program ini\n",
        "elif peran == 'Tabib':\n",
        "    print ('selamat datang di Dunia Proxytia, ' + str(nama))\n",
        "    print ('Halo ' + str(peran)+ ' ' + str(nama) + ', kamu akan membantu temanmu yang terluka!')\n",
        "#apabila perannya penyihir maka akan menjalankan program ini\n",
        "elif peran == 'Penyihir':\n",
        "    print ('selamat datang di Dunia Proxytia, ' + str(nama))\n",
        "    print ('Halo ' + str(peran)+ ' ' + str(nama) + ', ciptakan keajaiban yang membantu kemenanganmu!')\n",
        "#apabila peran kosong\n",
        "else:\n",
        "    print ('Nama tidak boleh kosong')\n",
        "    print ('Pilih peranmu untuk memulai game')\n",
        "    nama = input('Nama : ')\n",
        "    peran = input('Peran : ')\n",
        "    if peran == 'Ksatria':\n",
        "        print ('selamat datang di Dunia Proxytia, ' + str(nama))\n",
        "        print ('Halo ' + str(peran) + ' ' + str(nama) + ', kamu dapat menyerang dengan senjatamu!')\n",
        "    elif peran == 'Tabib':\n",
        "        print ('selamat datang di Dunia Proxytia, ' + str(nama))\n",
        "        print ('Halo ' + str(peran) + ' ' + str(nama) + ', kamu akan membantu temanmu yang terluka!')\n",
        "    elif peran == 'Penyihir':\n",
        "        print ('selamat datang di Dunia Proxytia, ' + str(nama))\n",
        "        print ('Halo ' + str(peran)+ ' ' + str(nama) + ', ciptakan keajaiban yang membantu kemenanganmu!')\n"
      ],
      "execution_count": 1,
      "outputs": [
        {
          "output_type": "stream",
          "text": [
            "\n",
            "Selamat datang, ini adalah game Proxytia, \n",
            "disini ada 3 peran yang harus kamu pilih. \n",
            "Diantaranya ada Ksatria, Tabib, Penyihir\n",
            "\n",
            "Nama tidak boleh kosong\n",
            "Pilih peranmu untuk memulai game\n",
            "Nama : khoi\n",
            "Peran : Tabib\n",
            "selamat datang di Dunia Proxytia, khoi\n",
            "Halo Tabib khoi, kamu akan membantu temanmu yang terluka!\n"
          ],
          "name": "stdout"
        }
      ]
    },
    {
      "cell_type": "code",
      "metadata": {
        "id": "VhwZVDMis807",
        "colab_type": "code",
        "colab": {}
      },
      "source": [
        ""
      ],
      "execution_count": 0,
      "outputs": []
    }
  ]
}