{
  "nbformat": 4,
  "nbformat_minor": 0,
  "metadata": {
    "colab": {
      "name": "hapus_symbol.ipynb",
      "provenance": []
    },
    "kernelspec": {
      "name": "python3",
      "display_name": "Python 3"
    }
  },
  "cells": [
    {
      "cell_type": "markdown",
      "metadata": {
        "id": "lo5EeU2oNnzf",
        "colab_type": "text"
      },
      "source": [
        "**Tujuan**:\n",
        "\n",
        "Menghapus symbol di dalam sebuah kata\n"
      ]
    },
    {
      "cell_type": "code",
      "metadata": {
        "id": "5ep9Qs0ENmvT",
        "colab_type": "code",
        "colab": {}
      },
      "source": [
        "def hapusSimbol(str):\n",
        "    import re\n",
        "    hasil = re.sub(r'[^\\w]', '', str)\n",
        "    return hasil"
      ],
      "execution_count": 0,
      "outputs": []
    },
    {
      "cell_type": "code",
      "metadata": {
        "id": "CXuXGBgQOGQr",
        "colab_type": "code",
        "colab": {
          "base_uri": "https://localhost:8080/",
          "height": 85
        },
        "outputId": "fc7bb4e6-a24f-4c49-a80c-6f89ad6f29fb"
      },
      "source": [
        "print(hapusSimbol('test%$4aa'))             # test4aa\n",
        "print(hapusSimbol('devel0p3r s3j@@ati'))    #devel0p3rs3jati\n",
        "print(hapusSimbol('ma@#k!an~'))             #makan\n",
        "print(hapusSimbol('1+3-5*2=100'))           #1352100"
      ],
      "execution_count": 2,
      "outputs": [
        {
          "output_type": "stream",
          "text": [
            "test4aa\n",
            "devel0p3rs3jati\n",
            "makan\n",
            "1352100\n"
          ],
          "name": "stdout"
        }
      ]
    },
    {
      "cell_type": "code",
      "metadata": {
        "id": "OkBudMwZOKFq",
        "colab_type": "code",
        "colab": {}
      },
      "source": [
        ""
      ],
      "execution_count": 0,
      "outputs": []
    }
  ]
}