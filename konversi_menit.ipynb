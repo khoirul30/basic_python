{
  "nbformat": 4,
  "nbformat_minor": 0,
  "metadata": {
    "colab": {
      "name": "konversi_menit.ipynb",
      "provenance": []
    },
    "kernelspec": {
      "name": "python3",
      "display_name": "Python 3"
    }
  },
  "cells": [
    {
      "cell_type": "markdown",
      "metadata": {
        "id": "y7_emdYJxTZa",
        "colab_type": "text"
      },
      "source": [
        "**Tujuan :**\n",
        "\n",
        "Membuat sebuah function dengan parameter nya adalah menit yang bertujuan untuk merubah menit tersebut kedalam jam dan menit.\n",
        "\n",
        "contoh :\n",
        "\n",
        "132 menit akan dirubah menjadi 2 jam 12 menit"
      ]
    },
    {
      "cell_type": "code",
      "metadata": {
        "id": "AufjBE61xRev",
        "colab_type": "code",
        "colab": {
          "base_uri": "https://localhost:8080/",
          "height": 102
        },
        "outputId": "9dc2535a-ec1d-497d-9064-fe0c244284ab"
      },
      "source": [
        "def konversi_menit(angka):\n",
        "    i = 0\n",
        "    # karena 1 jam adalah 60 menit jadi \n",
        "    # kita batasi angkanya harus lebih dari 60\n",
        "    while angka >= 60:\n",
        "        # dikurangi 60, artinya kita dapatkan 1 jam, \n",
        "        # sehingga i nya itu bertambah 1\n",
        "        # nanti i bertindak sebagai jam dan m sebagai sisa atau sebagai menitnya\n",
        "        m = angka - 60\n",
        "        angka = angka - 60\n",
        "        i += 1\n",
        "    angka = (i * 60) + m\n",
        "    print ('%02d:%02d' %(i, m))\n",
        "    print(angka , \"menit adalah sama dengan \", i , \"jam \", m , \"menit\")\n",
        "\n",
        "\n",
        "#running\n",
        "print (\"selamat datang\")\n",
        "print (\"\"\"anda sekarang berada di boot konversi menit\"\"\")\n",
        "waktu = int(input('masukkan berapa menit yang ingin anda ubah : '))\n",
        "konversi_menit(waktu)"
      ],
      "execution_count": 1,
      "outputs": [
        {
          "output_type": "stream",
          "text": [
            "selamat datang\n",
            "anda sekarang berada di boot konversi menit\n",
            "masukkan berapa menit yang ingin anda ubah : 145\n",
            "02:25\n",
            "145 menit adalah sama dengan  2 jam  25 menit\n"
          ],
          "name": "stdout"
        }
      ]
    },
    {
      "cell_type": "code",
      "metadata": {
        "id": "RfMZAZ9IxmNM",
        "colab_type": "code",
        "colab": {}
      },
      "source": [
        ""
      ],
      "execution_count": 0,
      "outputs": []
    }
  ]
}