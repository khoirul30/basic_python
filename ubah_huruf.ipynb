{
  "nbformat": 4,
  "nbformat_minor": 0,
  "metadata": {
    "colab": {
      "name": "ubah_huruf.ipynb",
      "provenance": []
    },
    "kernelspec": {
      "name": "python3",
      "display_name": "Python 3"
    }
  },
  "cells": [
    {
      "cell_type": "markdown",
      "metadata": {
        "id": "iLuoJDeTy3f6",
        "colab_type": "text"
      },
      "source": [
        "**Tujuan :**\n",
        "\n",
        "Membuat sebuah function untuk melakukan sebuah pergantian sebuah huruf menjadi huruf setelahnya.\n",
        "\n",
        "contoh :\n",
        "\n",
        "kata \"ae\" maka akan menghasilkan output \"bf\"\n",
        "\n",
        "penjelasannya :\n",
        "\n",
        "huruf a setelahnya adalah huruf b. dan huruf e setelahnya adalah huruf f"
      ]
    },
    {
      "cell_type": "code",
      "metadata": {
        "id": "VeRXA_0kyVqj",
        "colab_type": "code",
        "colab": {}
      },
      "source": [
        "def ubahHuruf(kata):\n",
        "    #inisiasi huruf ke dalam list\n",
        "    list = ['a', 'b', 'c', 'd', 'e', 'f', 'g', 'h', 'i', 'j', 'k', 'l', 'm', 'n', 'o', 'p', 'q', 'r', 's', 't', 'u', 'v', 'w', 'x', 'y', 'z']\n",
        "    huruf = ''\n",
        "    # digunakan for untuk menjabarkan huruf nya satu persatu\n",
        "    for karakter in kata:\n",
        "        #kemudian dilakukan looping untuk mengecek huruf nya \n",
        "        for i in range(0, len(list)):\n",
        "            #apabila bernilai sama maka akan dilakukan output 1 huruf di depannya\n",
        "            if list[i] == karakter:\n",
        "                # pengecekan apakah huruf nya bukan merupakan huruf yang terakhir \n",
        "                if i < len(list) - 1:\n",
        "                    huruf = huruf + list[i +1]\n",
        "                    break\n",
        "                # ini untuk perlakuan huruf yang terakhir\n",
        "                else:\n",
        "                    huruf= huruf + list[i-25]\n",
        "                    break\n",
        "    return huruf"
      ],
      "execution_count": 0,
      "outputs": []
    },
    {
      "cell_type": "code",
      "metadata": {
        "id": "m3eUgzoJ0MOt",
        "colab_type": "code",
        "colab": {
          "base_uri": "https://localhost:8080/",
          "height": 34
        },
        "outputId": "9fb7727d-0756-4c33-a7c4-5250929aa3b3"
      },
      "source": [
        "print(ubahHuruf('wow'))"
      ],
      "execution_count": 2,
      "outputs": [
        {
          "output_type": "stream",
          "text": [
            "xpx\n"
          ],
          "name": "stdout"
        }
      ]
    },
    {
      "cell_type": "code",
      "metadata": {
        "id": "Bcq7lLS10Qq1",
        "colab_type": "code",
        "colab": {
          "base_uri": "https://localhost:8080/",
          "height": 34
        },
        "outputId": "aa5fccef-8182-4696-bb45-628ea1914eb1"
      },
      "source": [
        "print(ubahHuruf('developer'))"
      ],
      "execution_count": 3,
      "outputs": [
        {
          "output_type": "stream",
          "text": [
            "efwfmpqfs\n"
          ],
          "name": "stdout"
        }
      ]
    },
    {
      "cell_type": "code",
      "metadata": {
        "id": "knaZ66RT0S8C",
        "colab_type": "code",
        "colab": {
          "base_uri": "https://localhost:8080/",
          "height": 34
        },
        "outputId": "829d0d4b-8b25-41c0-cab7-9851008bcf91"
      },
      "source": [
        "print(ubahHuruf('keren'))"
      ],
      "execution_count": 4,
      "outputs": [
        {
          "output_type": "stream",
          "text": [
            "lfsfo\n"
          ],
          "name": "stdout"
        }
      ]
    },
    {
      "cell_type": "code",
      "metadata": {
        "id": "7WhUN7NI0Uia",
        "colab_type": "code",
        "colab": {
          "base_uri": "https://localhost:8080/",
          "height": 34
        },
        "outputId": "e9896ea3-3e79-4070-ae6c-7361e05474b1"
      },
      "source": [
        "print(ubahHuruf('semangat'))"
      ],
      "execution_count": 5,
      "outputs": [
        {
          "output_type": "stream",
          "text": [
            "tfnbohbu\n"
          ],
          "name": "stdout"
        }
      ]
    },
    {
      "cell_type": "code",
      "metadata": {
        "id": "mjGIhIlO0VLa",
        "colab_type": "code",
        "colab": {}
      },
      "source": [
        ""
      ],
      "execution_count": 0,
      "outputs": []
    }
  ]
}