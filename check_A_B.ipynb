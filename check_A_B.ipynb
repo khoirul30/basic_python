{
  "nbformat": 4,
  "nbformat_minor": 0,
  "metadata": {
    "colab": {
      "name": "check_A_B.ipynb",
      "provenance": []
    },
    "kernelspec": {
      "name": "python3",
      "display_name": "Python 3"
    }
  },
  "cells": [
    {
      "cell_type": "markdown",
      "metadata": {
        "id": "OepLWbvevPYu",
        "colab_type": "text"
      },
      "source": [
        "**Tujuan :**\n",
        "\n",
        "Membuat function untuk mengecek sebuah kalimat yang mana kalimat tersebut harus memiliki struktur huruf A dan B\n",
        "\n",
        "contoh :\n",
        "\n",
        "kalimat \"aku bangun\". maka output yang dihasilkan dari kalimat tersebut adalah True\n",
        "\n",
        "kalimat \"baru makan\". maka output nya adalah False. Karena huruf B dulu baru huruf A di kalimat tersebut."
      ]
    },
    {
      "cell_type": "code",
      "metadata": {
        "id": "dGMMP85It_7L",
        "colab_type": "code",
        "colab": {}
      },
      "source": [
        "def checkAB(num):\n",
        "    #melakukan pemisalan dimana A dan B dimasukkan \n",
        "    # dalam suatu variabel\n",
        "    vokal = \"a\"\n",
        "    konsonan = \"b\"\n",
        "    #dianggap nilai awal bernilai false\n",
        "    nilai = False\n",
        "    # kemudian masuk dalam perulangan \n",
        "    # sebanyak jumlah huruf dari variabel num\n",
        "    for i in range(0, len(num)) :\n",
        "        # kemudian di cek apakah huruf nya sama atau \n",
        "        # tidak dan memiliki jarak sama dengan 3 atau tidak. \n",
        "        # pengecekan huruf yang dimaksud disini adalah huruf a dan b \n",
        "        if num[i] == vokal and i < len(num)-3:\n",
        "            if num[i+4] == konsonan:\n",
        "                nilai = True\n",
        "                break\n",
        "        # perulangan ini digunakan apabila b lebih dahulu terbaca daripada a\n",
        "        # kebalikan dari perulangan diatas, kalau diatas a lebih dulu dibaca daripada b\n",
        "        if num[i] == konsonan and i < len(num)-3:\n",
        "            if num[i+4] == vokal:\n",
        "                nilai = True\n",
        "                break\n",
        "        else:\n",
        "            nilai = False\n",
        "    return nilai"
      ],
      "execution_count": 0,
      "outputs": []
    },
    {
      "cell_type": "code",
      "metadata": {
        "id": "to7QSTVAwnW_",
        "colab_type": "code",
        "colab": {
          "base_uri": "https://localhost:8080/",
          "height": 34
        },
        "outputId": "c9acbcb1-fe7a-4614-afbc-b5881b7d0277"
      },
      "source": [
        "print(checkAB('bacon and meat'))"
      ],
      "execution_count": 2,
      "outputs": [
        {
          "output_type": "stream",
          "text": [
            "False\n"
          ],
          "name": "stdout"
        }
      ]
    },
    {
      "cell_type": "code",
      "metadata": {
        "id": "j6NuN6O2wrlP",
        "colab_type": "code",
        "colab": {
          "base_uri": "https://localhost:8080/",
          "height": 34
        },
        "outputId": "1b364731-2777-40f7-d4ae-e24f77154d7d"
      },
      "source": [
        "print(checkAB('lane borrowed')) "
      ],
      "execution_count": 3,
      "outputs": [
        {
          "output_type": "stream",
          "text": [
            "True\n"
          ],
          "name": "stdout"
        }
      ]
    },
    {
      "cell_type": "code",
      "metadata": {
        "id": "14d2xpFVwtNL",
        "colab_type": "code",
        "colab": {
          "base_uri": "https://localhost:8080/",
          "height": 34
        },
        "outputId": "3ce1d98d-6393-4607-d871-6db3836df4c2"
      },
      "source": [
        "print(checkAB('i am sick'))"
      ],
      "execution_count": 4,
      "outputs": [
        {
          "output_type": "stream",
          "text": [
            "False\n"
          ],
          "name": "stdout"
        }
      ]
    },
    {
      "cell_type": "code",
      "metadata": {
        "id": "TlIDrnm8wulS",
        "colab_type": "code",
        "colab": {
          "base_uri": "https://localhost:8080/",
          "height": 34
        },
        "outputId": "adba13e6-34c3-4730-f388-c65754990905"
      },
      "source": [
        "print(checkAB('you are boring')) "
      ],
      "execution_count": 5,
      "outputs": [
        {
          "output_type": "stream",
          "text": [
            "True\n"
          ],
          "name": "stdout"
        }
      ]
    },
    {
      "cell_type": "code",
      "metadata": {
        "id": "UD_pbJ-awvta",
        "colab_type": "code",
        "colab": {
          "base_uri": "https://localhost:8080/",
          "height": 34
        },
        "outputId": "870e8e24-91f5-4b02-bd70-5d5af83ba65b"
      },
      "source": [
        "print(checkAB('barbarian')) "
      ],
      "execution_count": 6,
      "outputs": [
        {
          "output_type": "stream",
          "text": [
            "True\n"
          ],
          "name": "stdout"
        }
      ]
    },
    {
      "cell_type": "code",
      "metadata": {
        "id": "LkOgbaDlww76",
        "colab_type": "code",
        "colab": {}
      },
      "source": [
        ""
      ],
      "execution_count": 0,
      "outputs": []
    }
  ]
}