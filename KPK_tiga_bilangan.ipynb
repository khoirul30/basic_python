{
  "nbformat": 4,
  "nbformat_minor": 0,
  "metadata": {
    "colab": {
      "name": "KPK_tiga_bilangan.ipynb",
      "provenance": []
    },
    "kernelspec": {
      "name": "python3",
      "display_name": "Python 3"
    }
  },
  "cells": [
    {
      "cell_type": "markdown",
      "metadata": {
        "id": "-J3FSxiS7K7N",
        "colab_type": "text"
      },
      "source": [
        "**Tujuan :**\n",
        "\n",
        "Membuat KPK dari 3 bilangan."
      ]
    },
    {
      "cell_type": "code",
      "metadata": {
        "id": "0gX_LJWN3kSx",
        "colab_type": "code",
        "colab": {}
      },
      "source": [
        "def hitung_FPB(a, b):\n",
        "# memilih bilangan yang paling kecil\n",
        "    if a > b:\n",
        "        kecil = b\n",
        "    else:\n",
        "        kecil = a\n",
        "    for i in range(1, kecil+1):\n",
        "        if((a % i == 0) and (b % i == 0)):\n",
        "            fpb = i         \n",
        "    return fpb\n",
        "\n",
        "def kpkTigabilangan(a,b,c):\n",
        "    # cari dulu kpk dari nilai a dan b\n",
        "    KPK1 = int(a * b / hitung_FPB(a,b))\n",
        "    # cari kpk dari nilai KPK1 dan c\n",
        "    KPK2 = int(KPK1 * c / hitung_FPB(KPK1,c))\n",
        "    print(KPK2)"
      ],
      "execution_count": 0,
      "outputs": []
    },
    {
      "cell_type": "code",
      "metadata": {
        "id": "OskeUTfd7IBw",
        "colab_type": "code",
        "colab": {
          "base_uri": "https://localhost:8080/",
          "height": 34
        },
        "outputId": "0387b996-af35-4002-9281-43894a50855f"
      },
      "source": [
        "kpkTigabilangan(2,7,3)  "
      ],
      "execution_count": 2,
      "outputs": [
        {
          "output_type": "stream",
          "text": [
            "42\n"
          ],
          "name": "stdout"
        }
      ]
    },
    {
      "cell_type": "code",
      "metadata": {
        "id": "QeogvX297THi",
        "colab_type": "code",
        "colab": {
          "base_uri": "https://localhost:8080/",
          "height": 34
        },
        "outputId": "65b7f402-4f41-46ec-b01c-5bb64c3be218"
      },
      "source": [
        "kpkTigabilangan(1,2,3) "
      ],
      "execution_count": 3,
      "outputs": [
        {
          "output_type": "stream",
          "text": [
            "6\n"
          ],
          "name": "stdout"
        }
      ]
    },
    {
      "cell_type": "code",
      "metadata": {
        "id": "xC0xYnAC7Wdq",
        "colab_type": "code",
        "colab": {
          "base_uri": "https://localhost:8080/",
          "height": 34
        },
        "outputId": "2ab14fe8-37b7-453f-c7a5-a451df0e45c8"
      },
      "source": [
        "kpkTigabilangan(5,7,6)  "
      ],
      "execution_count": 4,
      "outputs": [
        {
          "output_type": "stream",
          "text": [
            "210\n"
          ],
          "name": "stdout"
        }
      ]
    },
    {
      "cell_type": "code",
      "metadata": {
        "id": "GwepjnH27XlW",
        "colab_type": "code",
        "colab": {
          "base_uri": "https://localhost:8080/",
          "height": 34
        },
        "outputId": "9831e57e-66ac-4775-aab0-52610475f818"
      },
      "source": [
        "kpkTigabilangan(7,5,9) "
      ],
      "execution_count": 5,
      "outputs": [
        {
          "output_type": "stream",
          "text": [
            "315\n"
          ],
          "name": "stdout"
        }
      ]
    },
    {
      "cell_type": "code",
      "metadata": {
        "id": "VQYPNrkn7ZLF",
        "colab_type": "code",
        "colab": {
          "base_uri": "https://localhost:8080/",
          "height": 34
        },
        "outputId": "5531715f-5e03-40c1-f181-e237edbe5f52"
      },
      "source": [
        "kpkTigabilangan(2,7,5) "
      ],
      "execution_count": 6,
      "outputs": [
        {
          "output_type": "stream",
          "text": [
            "70\n"
          ],
          "name": "stdout"
        }
      ]
    },
    {
      "cell_type": "code",
      "metadata": {
        "id": "gjyy24j-7Z6I",
        "colab_type": "code",
        "colab": {}
      },
      "source": [
        ""
      ],
      "execution_count": 0,
      "outputs": []
    }
  ]
}