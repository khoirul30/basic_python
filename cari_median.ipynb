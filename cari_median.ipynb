{
  "nbformat": 4,
  "nbformat_minor": 0,
  "metadata": {
    "colab": {
      "name": "cari_median.ipynb",
      "provenance": []
    },
    "kernelspec": {
      "name": "python3",
      "display_name": "Python 3"
    }
  },
  "cells": [
    {
      "cell_type": "markdown",
      "metadata": {
        "id": "HkHtc5Ry9eKR",
        "colab_type": "text"
      },
      "source": [
        "**Tujuan :**\n",
        "\n",
        "Membuat sebuah function untuk mencari sebuah median dari sebuah parameter tuple."
      ]
    },
    {
      "cell_type": "code",
      "metadata": {
        "id": "gliaZzzv8yu6",
        "colab_type": "code",
        "colab": {}
      },
      "source": [
        "def cariMedian(x):\n",
        "    i = 0  \n",
        "    for xy in x:\n",
        "        if xy is not None:\n",
        "            i = i + 1\n",
        "    if i % 2 == 1:\n",
        "        i = int(i / 2)\n",
        "        return x[i]\n",
        "    else:\n",
        "        i = int(i / 2)\n",
        "        y = (x[i] + x[i-1])/2\n",
        "        return y"
      ],
      "execution_count": 0,
      "outputs": []
    },
    {
      "cell_type": "code",
      "metadata": {
        "id": "yK2FHNpE9r7f",
        "colab_type": "code",
        "colab": {
          "base_uri": "https://localhost:8080/",
          "height": 34
        },
        "outputId": "998515d3-067f-48ef-fadf-d64e61bcb39d"
      },
      "source": [
        "print(cariMedian((1,2,3,4,5)))"
      ],
      "execution_count": 2,
      "outputs": [
        {
          "output_type": "stream",
          "text": [
            "3\n"
          ],
          "name": "stdout"
        }
      ]
    },
    {
      "cell_type": "code",
      "metadata": {
        "id": "a3PZ8fSW9wna",
        "colab_type": "code",
        "colab": {
          "base_uri": "https://localhost:8080/",
          "height": 34
        },
        "outputId": "2f1d9025-cd19-486b-efea-a896915c58e5"
      },
      "source": [
        "print(cariMedian((1,3,4,10,12,13)))"
      ],
      "execution_count": 3,
      "outputs": [
        {
          "output_type": "stream",
          "text": [
            "7.0\n"
          ],
          "name": "stdout"
        }
      ]
    },
    {
      "cell_type": "code",
      "metadata": {
        "id": "xIH1CcaN9xt6",
        "colab_type": "code",
        "colab": {
          "base_uri": "https://localhost:8080/",
          "height": 34
        },
        "outputId": "ab85a0e6-9b93-46bd-da18-6ab8bcb945e3"
      },
      "source": [
        "print(cariMedian((3,4,7,6,10)))"
      ],
      "execution_count": 4,
      "outputs": [
        {
          "output_type": "stream",
          "text": [
            "7\n"
          ],
          "name": "stdout"
        }
      ]
    },
    {
      "cell_type": "code",
      "metadata": {
        "id": "CpyVjm1Y9yrb",
        "colab_type": "code",
        "colab": {
          "base_uri": "https://localhost:8080/",
          "height": 34
        },
        "outputId": "1ec033b6-23bf-4a75-ebd4-4666c236feb1"
      },
      "source": [
        "print(cariMedian((1,3,3)))"
      ],
      "execution_count": 5,
      "outputs": [
        {
          "output_type": "stream",
          "text": [
            "3\n"
          ],
          "name": "stdout"
        }
      ]
    },
    {
      "cell_type": "code",
      "metadata": {
        "id": "Bc6Incux9zf9",
        "colab_type": "code",
        "colab": {
          "base_uri": "https://localhost:8080/",
          "height": 34
        },
        "outputId": "a3bb0614-eb94-4e3d-a7fb-6a64e4741ec8"
      },
      "source": [
        "print(cariMedian((7,7,8,8)))"
      ],
      "execution_count": 6,
      "outputs": [
        {
          "output_type": "stream",
          "text": [
            "7.5\n"
          ],
          "name": "stdout"
        }
      ]
    },
    {
      "cell_type": "code",
      "metadata": {
        "id": "binZNw_390Ex",
        "colab_type": "code",
        "colab": {}
      },
      "source": [
        ""
      ],
      "execution_count": 0,
      "outputs": []
    }
  ]
}