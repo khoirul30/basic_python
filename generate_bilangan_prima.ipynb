{
  "nbformat": 4,
  "nbformat_minor": 0,
  "metadata": {
    "colab": {
      "name": "generate_bilangan_prima.ipynb",
      "provenance": []
    },
    "kernelspec": {
      "name": "python3",
      "display_name": "Python 3"
    }
  },
  "cells": [
    {
      "cell_type": "markdown",
      "metadata": {
        "id": "PjxfGq6kqhK5",
        "colab_type": "text"
      },
      "source": [
        "**Tujuan :**\n",
        "\n",
        "Membuat function dengan 1 parameter bilangan, yang mana nanti menghasilkan sebuah barisan bilangan prima.\n",
        "\n",
        "contoh :\n",
        "\n",
        "parameternya adalah 10. Maka hasil output nya adalah 2 , 3 , 5 , 7 "
      ]
    },
    {
      "cell_type": "code",
      "metadata": {
        "id": "aHVFrYO1pD5c",
        "colab_type": "code",
        "colab": {}
      },
      "source": [
        "def generatePrima(X):\n",
        "  #nilai yang dimasukkan harus lebih dari 1\n",
        "  if X > 1:\n",
        "  # kemudian buat variabel i sampai X, \n",
        "  # karena ingin generate bilangan prima, \n",
        "  # nantinya bilangan primanya muncul lewat variabel i\n",
        "    for i in range(2, X +1):\n",
        "      for m in range(2,i):\n",
        "        if i % m == 0:\n",
        "          break   \n",
        "      else:\n",
        "        print (i, end = ' ')\n",
        "  print ('')"
      ],
      "execution_count": 0,
      "outputs": []
    },
    {
      "cell_type": "code",
      "metadata": {
        "id": "UZB1M8YIpW5T",
        "colab_type": "code",
        "colab": {
          "base_uri": "https://localhost:8080/",
          "height": 51
        },
        "outputId": "50fc884a-e86e-4bd5-cce7-d96c17e2ef31"
      },
      "source": [
        "print(generatePrima(16))"
      ],
      "execution_count": 13,
      "outputs": [
        {
          "output_type": "stream",
          "text": [
            "2 3 5 7 11 13 \n",
            "None\n"
          ],
          "name": "stdout"
        }
      ]
    },
    {
      "cell_type": "code",
      "metadata": {
        "id": "FnuVOWeQpaqX",
        "colab_type": "code",
        "colab": {
          "base_uri": "https://localhost:8080/",
          "height": 51
        },
        "outputId": "bfb588cb-3e58-4165-864d-ea3af61032e2"
      },
      "source": [
        "print(generatePrima(41)) "
      ],
      "execution_count": 14,
      "outputs": [
        {
          "output_type": "stream",
          "text": [
            "2 3 5 7 11 13 17 19 23 29 31 37 41 \n",
            "None\n"
          ],
          "name": "stdout"
        }
      ]
    },
    {
      "cell_type": "code",
      "metadata": {
        "id": "TART1Vt6pea9",
        "colab_type": "code",
        "colab": {
          "base_uri": "https://localhost:8080/",
          "height": 51
        },
        "outputId": "75e921e8-e016-47c6-d2e7-a34edbe9a0b7"
      },
      "source": [
        "print(generatePrima(10))"
      ],
      "execution_count": 15,
      "outputs": [
        {
          "output_type": "stream",
          "text": [
            "2 3 5 7 \n",
            "None\n"
          ],
          "name": "stdout"
        }
      ]
    },
    {
      "cell_type": "code",
      "metadata": {
        "id": "wdJrbVwnrK9w",
        "colab_type": "code",
        "colab": {}
      },
      "source": [
        ""
      ],
      "execution_count": 0,
      "outputs": []
    }
  ]
}