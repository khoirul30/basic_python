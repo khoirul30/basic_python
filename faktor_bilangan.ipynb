{
  "nbformat": 4,
  "nbformat_minor": 0,
  "metadata": {
    "colab": {
      "name": "faktor_bilangan.ipynb",
      "provenance": []
    },
    "kernelspec": {
      "name": "python3",
      "display_name": "Python 3"
    }
  },
  "cells": [
    {
      "cell_type": "markdown",
      "metadata": {
        "id": "-crEAnSZoXgz",
        "colab_type": "text"
      },
      "source": [
        "**Tujuan :**\n",
        "\n",
        "Membuat function untuk mendapatkan faktor dari sebuah bilangan\n",
        "\n",
        "contoh :\n",
        "\n",
        "bilangan 6 faktornya adalah 1 , 2 , 3 , 6"
      ]
    },
    {
      "cell_type": "code",
      "metadata": {
        "id": "dhTzSkkGoIj1",
        "colab_type": "code",
        "colab": {}
      },
      "source": [
        "def faktorBilangan(angka):\n",
        "  # your code here\n",
        "  print(\"Faktor dari\", angka , \"adalah:\")\n",
        "  for i in range(1, angka+1):\n",
        "    if angka % i == 0:\n",
        "      print(i,end=\" \")\n",
        "  print(\" \")"
      ],
      "execution_count": 0,
      "outputs": []
    },
    {
      "cell_type": "code",
      "metadata": {
        "id": "Hh-Ubw9Ooowl",
        "colab_type": "code",
        "colab": {
          "base_uri": "https://localhost:8080/",
          "height": 51
        },
        "outputId": "bdc2d5a0-50de-4918-a609-bddd59758abe"
      },
      "source": [
        "faktorBilangan(6) "
      ],
      "execution_count": 2,
      "outputs": [
        {
          "output_type": "stream",
          "text": [
            "Faktor dari 6 adalah:\n",
            "1 2 3 6  \n"
          ],
          "name": "stdout"
        }
      ]
    },
    {
      "cell_type": "code",
      "metadata": {
        "id": "XEFmMwXLorps",
        "colab_type": "code",
        "colab": {
          "base_uri": "https://localhost:8080/",
          "height": 51
        },
        "outputId": "c5d163a5-246a-4edc-cd4e-93e2948821f3"
      },
      "source": [
        "faktorBilangan(12)"
      ],
      "execution_count": 3,
      "outputs": [
        {
          "output_type": "stream",
          "text": [
            "Faktor dari 12 adalah:\n",
            "1 2 3 4 6 12  \n"
          ],
          "name": "stdout"
        }
      ]
    },
    {
      "cell_type": "code",
      "metadata": {
        "id": "WBL0981tos8x",
        "colab_type": "code",
        "colab": {}
      },
      "source": [
        ""
      ],
      "execution_count": 0,
      "outputs": []
    }
  ]
}