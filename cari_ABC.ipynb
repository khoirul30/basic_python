{
  "nbformat": 4,
  "nbformat_minor": 0,
  "metadata": {
    "colab": {
      "name": "cari_ABC.ipynb",
      "provenance": []
    },
    "kernelspec": {
      "name": "python3",
      "display_name": "Python 3"
    }
  },
  "cells": [
    {
      "cell_type": "markdown",
      "metadata": {
        "id": "b3y8pt7vMML4",
        "colab_type": "text"
      },
      "source": [
        "**tujuan** :\n",
        "\n",
        "mencari banyak huruf abc di dalam sebuah kata"
      ]
    },
    {
      "cell_type": "code",
      "metadata": {
        "id": "dIsODv6xMFZB",
        "colab_type": "code",
        "colab": {}
      },
      "source": [
        "def cariPelaku(str):\n",
        "    import re\n",
        "    hasil = re.compile(r'abc')\n",
        "    end = hasil.findall(str)\n",
        "    return len(end)"
      ],
      "execution_count": 0,
      "outputs": []
    },
    {
      "cell_type": "code",
      "metadata": {
        "id": "hRJfFn5WMI6m",
        "colab_type": "code",
        "colab": {
          "base_uri": "https://localhost:8080/",
          "height": 34
        },
        "outputId": "8f129bca-15ee-4d68-a1a3-8ee78a6c9ffe"
      },
      "source": [
        "hasil = cariPelaku('mabcvabc')\n",
        "print('Banyak huruf abc dalam kata (\"mabcvabc\") adalah', hasil)"
      ],
      "execution_count": 3,
      "outputs": [
        {
          "output_type": "stream",
          "text": [
            "Banyak huruf abc dalam kata (\"mabcvabc\") adalah 2\n"
          ],
          "name": "stdout"
        }
      ]
    },
    {
      "cell_type": "code",
      "metadata": {
        "id": "xd8Ch2ZgMhhA",
        "colab_type": "code",
        "colab": {
          "base_uri": "https://localhost:8080/",
          "height": 34
        },
        "outputId": "5d673d8d-810f-4a31-fa32-6bce528c60c0"
      },
      "source": [
        "hasil = cariPelaku('abcdabdc')\n",
        "print('Banyak huruf abc dalam kata (\"abcdabdc\") adalah', hasil)"
      ],
      "execution_count": 4,
      "outputs": [
        {
          "output_type": "stream",
          "text": [
            "Banyak huruf abc dalam kata (\"mabcvabc\") adalah 1\n"
          ],
          "name": "stdout"
        }
      ]
    },
    {
      "cell_type": "code",
      "metadata": {
        "id": "KYrxFFRbM_7j",
        "colab_type": "code",
        "colab": {
          "base_uri": "https://localhost:8080/",
          "height": 34
        },
        "outputId": "03334fd8-8eee-40ea-df07-16ea66cecfe5"
      },
      "source": [
        "hasil = cariPelaku('bcabcac')\n",
        "print('Banyak huruf abc dalam kata (\"bcabcac\") adalah', hasil)"
      ],
      "execution_count": 5,
      "outputs": [
        {
          "output_type": "stream",
          "text": [
            "Banyak huruf abc dalam kata (\"bcabcac\") adalah 1\n"
          ],
          "name": "stdout"
        }
      ]
    },
    {
      "cell_type": "code",
      "metadata": {
        "id": "lmaMTqURNKxf",
        "colab_type": "code",
        "colab": {
          "base_uri": "https://localhost:8080/",
          "height": 34
        },
        "outputId": "013e270b-7c69-4b46-ab76-8e3c927090d0"
      },
      "source": [
        "hasil = cariPelaku('abcabcabc')\n",
        "print('Banyak huruf abc dalam kata (\"abcabcabc\") adalah', hasil)"
      ],
      "execution_count": 6,
      "outputs": [
        {
          "output_type": "stream",
          "text": [
            "Banyak huruf abc dalam kata (\"abcabcabc\") adalah 3\n"
          ],
          "name": "stdout"
        }
      ]
    },
    {
      "cell_type": "code",
      "metadata": {
        "id": "9rCU_5gXNQmf",
        "colab_type": "code",
        "colab": {
          "base_uri": "https://localhost:8080/",
          "height": 34
        },
        "outputId": "c9bf6f64-bc13-4629-f7a2-f8d47c9fad35"
      },
      "source": [
        "hasil = cariPelaku('babcbacabc')\n",
        "print('Banyak huruf abc dalam kata (\"babcbacabc\") adalah', hasil)"
      ],
      "execution_count": 7,
      "outputs": [
        {
          "output_type": "stream",
          "text": [
            "Banyak huruf abc dalam kata (\"babcbacabc\") adalah 2\n"
          ],
          "name": "stdout"
        }
      ]
    },
    {
      "cell_type": "code",
      "metadata": {
        "id": "9Ytkm3M0NVja",
        "colab_type": "code",
        "colab": {}
      },
      "source": [
        ""
      ],
      "execution_count": 0,
      "outputs": []
    }
  ]
}