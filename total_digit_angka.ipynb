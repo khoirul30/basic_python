{
  "nbformat": 4,
  "nbformat_minor": 0,
  "metadata": {
    "colab": {
      "name": "total_digit_angka.ipynb",
      "provenance": []
    },
    "kernelspec": {
      "name": "python3",
      "display_name": "Python 3"
    }
  },
  "cells": [
    {
      "cell_type": "markdown",
      "metadata": {
        "id": "YAN6bTTQO5HC",
        "colab_type": "text"
      },
      "source": [
        "**Tujuan** :\n",
        "\n",
        "Menjumlahkan digit angka yang dibuat.\n",
        "\n",
        "contoh :\n",
        "\n",
        "angka 1245 maka total digit angka : 1 + 2 + 4 + 5 = 12"
      ]
    },
    {
      "cell_type": "code",
      "metadata": {
        "id": "CAmNi3BCOR_X",
        "colab_type": "code",
        "colab": {}
      },
      "source": [
        "def totalDigitRekursif(angka):\n",
        "    # memecah menjadi beberapa digit angka\n",
        "    if angka // 10 == 0:\n",
        "        return angka\n",
        "    else:\n",
        "        dig = angka % 10\n",
        "        angka = angka - dig\n",
        "        angka = angka / 10\n",
        "        return int(dig + totalDigitRekursif(angka))"
      ],
      "execution_count": 0,
      "outputs": []
    },
    {
      "cell_type": "code",
      "metadata": {
        "id": "Lo4aoWTDPNFn",
        "colab_type": "code",
        "colab": {
          "base_uri": "https://localhost:8080/",
          "height": 102
        },
        "outputId": "931088de-736f-4798-bc6a-05a3f5ed318e"
      },
      "source": [
        "print(totalDigitRekursif(512))   # 8\n",
        "print(totalDigitRekursif(1542))  # 12\n",
        "print(totalDigitRekursif(5))     # 5\n",
        "print(totalDigitRekursif(21))    # 3\n",
        "print(totalDigitRekursif(11111)) # 5"
      ],
      "execution_count": 2,
      "outputs": [
        {
          "output_type": "stream",
          "text": [
            "8\n",
            "12\n",
            "5\n",
            "3\n",
            "5\n"
          ],
          "name": "stdout"
        }
      ]
    },
    {
      "cell_type": "code",
      "metadata": {
        "id": "E9wjAmLuPTzl",
        "colab_type": "code",
        "colab": {}
      },
      "source": [
        ""
      ],
      "execution_count": 0,
      "outputs": []
    }
  ]
}