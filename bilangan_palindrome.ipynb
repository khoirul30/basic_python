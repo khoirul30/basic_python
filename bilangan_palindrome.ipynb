{
  "nbformat": 4,
  "nbformat_minor": 0,
  "metadata": {
    "colab": {
      "name": "bilangan_palindrome.ipynb",
      "provenance": []
    },
    "kernelspec": {
      "name": "python3",
      "display_name": "Python 3"
    }
  },
  "cells": [
    {
      "cell_type": "markdown",
      "metadata": {
        "id": "H1mijccdh5gL",
        "colab_type": "text"
      },
      "source": [
        "**Tujuan :**\n",
        "\n",
        "Membuat sebuah fungsi dengan parameter bilangan yang mana bilangan tersebut bukan bilangan palindrom. Kemudian output yang dihasilkan adalah sebuah bilangan palindrom yang lebih besar dari parameter.\n",
        "\n",
        "Bilangan palindrome adalah Bilangan palindrome adalah bilangan yang apabila dibaca dari depan maupun dari belakang\n",
        "\n",
        "contoh :\n",
        "\n",
        "parameter 7 maka output nya 8(ketika memakai parameter satuan maka outputnya satu angka setelah angka 7).\n",
        "\n",
        "parameter 10 maka outputnya 11(bilangan palindrom).\n",
        "\n",
        "parameter 100 maka outputnya 101(bilangan palindrom)."
      ]
    },
    {
      "cell_type": "code",
      "metadata": {
        "id": "RB-gC6n_heWQ",
        "colab_type": "code",
        "colab": {}
      },
      "source": [
        "def cekPalindrome(nilai):\n",
        "    tmp = nilai\n",
        "    rev = 0\n",
        "    while nilai>0:\n",
        "        dig = nilai % 10\n",
        "        rev = rev * 10 + dig\n",
        "        nilai = nilai // 10\n",
        "    if tmp == rev:\n",
        "        return \"True\"\n",
        "    else:\n",
        "        return \"False\"\n",
        "\n",
        "def angkaPalindrome(num):\n",
        "    k = 'False'\n",
        "    while k == 'False':\n",
        "        num = num + 1\n",
        "        k = cekPalindrome(num)\n",
        "    return num"
      ],
      "execution_count": 0,
      "outputs": []
    },
    {
      "cell_type": "code",
      "metadata": {
        "id": "phMZErjnjZBI",
        "colab_type": "code",
        "colab": {
          "base_uri": "https://localhost:8080/",
          "height": 34
        },
        "outputId": "b9550467-e3ea-473c-c625-fb2199e66036"
      },
      "source": [
        "print(angkaPalindrome(188))"
      ],
      "execution_count": 3,
      "outputs": [
        {
          "output_type": "stream",
          "text": [
            "191\n"
          ],
          "name": "stdout"
        }
      ]
    },
    {
      "cell_type": "code",
      "metadata": {
        "id": "KvX251jOjikK",
        "colab_type": "code",
        "colab": {
          "base_uri": "https://localhost:8080/",
          "height": 34
        },
        "outputId": "8c38ccc4-5968-419d-f9ff-9830068a7731"
      },
      "source": [
        "print(angkaPalindrome(10)) "
      ],
      "execution_count": 4,
      "outputs": [
        {
          "output_type": "stream",
          "text": [
            "11\n"
          ],
          "name": "stdout"
        }
      ]
    },
    {
      "cell_type": "code",
      "metadata": {
        "id": "T6InRsKxjo9r",
        "colab_type": "code",
        "colab": {
          "base_uri": "https://localhost:8080/",
          "height": 34
        },
        "outputId": "c427c9ec-c372-4dd6-b849-da626f3b970b"
      },
      "source": [
        "print(angkaPalindrome(117))    "
      ],
      "execution_count": 5,
      "outputs": [
        {
          "output_type": "stream",
          "text": [
            "121\n"
          ],
          "name": "stdout"
        }
      ]
    },
    {
      "cell_type": "code",
      "metadata": {
        "id": "v1Wfzg2zjqcN",
        "colab_type": "code",
        "colab": {
          "base_uri": "https://localhost:8080/",
          "height": 34
        },
        "outputId": "c51bde5b-db25-4ef9-eb68-b796dabfcfca"
      },
      "source": [
        "print(angkaPalindrome(175))  "
      ],
      "execution_count": 6,
      "outputs": [
        {
          "output_type": "stream",
          "text": [
            "181\n"
          ],
          "name": "stdout"
        }
      ]
    },
    {
      "cell_type": "code",
      "metadata": {
        "id": "Ehevw-rejrvE",
        "colab_type": "code",
        "colab": {
          "base_uri": "https://localhost:8080/",
          "height": 34
        },
        "outputId": "2192e2f8-9cfe-48cc-9d2e-fcdc394db10b"
      },
      "source": [
        "print(angkaPalindrome(10000))  "
      ],
      "execution_count": 7,
      "outputs": [
        {
          "output_type": "stream",
          "text": [
            "10001\n"
          ],
          "name": "stdout"
        }
      ]
    },
    {
      "cell_type": "code",
      "metadata": {
        "id": "z-akfvjxjtya",
        "colab_type": "code",
        "colab": {
          "base_uri": "https://localhost:8080/",
          "height": 34
        },
        "outputId": "56c9f791-6269-45c6-d076-80e3f3dd5a18"
      },
      "source": [
        "print(angkaPalindrome(10001))"
      ],
      "execution_count": 8,
      "outputs": [
        {
          "output_type": "stream",
          "text": [
            "10101\n"
          ],
          "name": "stdout"
        }
      ]
    },
    {
      "cell_type": "code",
      "metadata": {
        "id": "F65orL0oj3tL",
        "colab_type": "code",
        "colab": {}
      },
      "source": [
        ""
      ],
      "execution_count": 0,
      "outputs": []
    }
  ]
}