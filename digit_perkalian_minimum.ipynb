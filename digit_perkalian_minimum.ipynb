{
  "nbformat": 4,
  "nbformat_minor": 0,
  "metadata": {
    "colab": {
      "name": "digit_perkalian_minimum.ipynb",
      "provenance": []
    },
    "kernelspec": {
      "name": "python3",
      "display_name": "Python 3"
    }
  },
  "cells": [
    {
      "cell_type": "markdown",
      "metadata": {
        "id": "ZLvC-zqLlav_",
        "colab_type": "text"
      },
      "source": [
        "**Tujuan :**\n",
        "\n",
        "Membuat sebuah function untuk mendapatkan banyak digit dari perkalian minimum 2 angka.\n",
        "\n",
        "contoh :\n",
        "\n",
        "angka 144 itu bisa 12 x 12 dengan menghasilkan 4 digit dan juga 6 x 24 yang menghasilkan 3 digit dan perkalian yang lainnya karena masih banyak perkalian 2 angka yang dapat menghasilkan 144. \n",
        "\n",
        "Lalu yang di outputkan disini adalah 3 karena dari banyaknya perkalian yang dihasilkan, 3 digit angka merupakan yang paling kecil."
      ]
    },
    {
      "cell_type": "code",
      "metadata": {
        "id": "aOtYFQpKkAS7",
        "colab_type": "code",
        "colab": {}
      },
      "source": [
        "def digitPerkalianMinimum(angka):\n",
        "    # you can only write your code here!\n",
        "    total=angka*100                 #Nilai awal jumlah angka (dikali 100 untuk memastikan nilai awal memiliki jml yg paling besar)\n",
        "    for a in range(1, angka+1):\n",
        "        for b in range(1, angka + 1):\n",
        "            if angka / (a * b) == 1:\n",
        "                pengali_1=len(str(a))\n",
        "                pengali_2=len(str(b))\n",
        "                temp=pengali_1+pengali_2\n",
        "                if temp < total:\n",
        "                    total=temp\n",
        "    return total"
      ],
      "execution_count": 0,
      "outputs": []
    },
    {
      "cell_type": "code",
      "metadata": {
        "id": "Hvm9E6tBnW6r",
        "colab_type": "code",
        "colab": {
          "base_uri": "https://localhost:8080/",
          "height": 34
        },
        "outputId": "ee02e920-8c50-47bb-ed18-9f76553532cd"
      },
      "source": [
        "print(digitPerkalianMinimum(24)) # 6 x 4"
      ],
      "execution_count": 2,
      "outputs": [
        {
          "output_type": "stream",
          "text": [
            "2\n"
          ],
          "name": "stdout"
        }
      ]
    },
    {
      "cell_type": "code",
      "metadata": {
        "id": "Fzr5u0xZnevx",
        "colab_type": "code",
        "colab": {
          "base_uri": "https://localhost:8080/",
          "height": 34
        },
        "outputId": "6b6a6821-b417-4689-916d-8e57012d3e50"
      },
      "source": [
        "print(digitPerkalianMinimum(90)) # 3 x 30"
      ],
      "execution_count": 3,
      "outputs": [
        {
          "output_type": "stream",
          "text": [
            "3\n"
          ],
          "name": "stdout"
        }
      ]
    },
    {
      "cell_type": "code",
      "metadata": {
        "id": "SfsJ8na_ngN-",
        "colab_type": "code",
        "colab": {
          "base_uri": "https://localhost:8080/",
          "height": 34
        },
        "outputId": "e5f07c97-c386-47a8-b585-d90ed7ffcc11"
      },
      "source": [
        "print(digitPerkalianMinimum(20)) # 4 x 5"
      ],
      "execution_count": 4,
      "outputs": [
        {
          "output_type": "stream",
          "text": [
            "2\n"
          ],
          "name": "stdout"
        }
      ]
    },
    {
      "cell_type": "code",
      "metadata": {
        "id": "0VQ-zEWenheJ",
        "colab_type": "code",
        "colab": {
          "base_uri": "https://localhost:8080/",
          "height": 34
        },
        "outputId": "b0e8d7d8-e940-4c02-9762-e1eb32cbf498"
      },
      "source": [
        "print(digitPerkalianMinimum(179)) # 179 x 1"
      ],
      "execution_count": 5,
      "outputs": [
        {
          "output_type": "stream",
          "text": [
            "4\n"
          ],
          "name": "stdout"
        }
      ]
    },
    {
      "cell_type": "code",
      "metadata": {
        "id": "HEa17Se8nifU",
        "colab_type": "code",
        "colab": {
          "base_uri": "https://localhost:8080/",
          "height": 34
        },
        "outputId": "3302a3e0-f599-45a4-9e4f-c79e1a1c91dc"
      },
      "source": [
        "print(digitPerkalianMinimum(1)) # 1 x 1"
      ],
      "execution_count": 6,
      "outputs": [
        {
          "output_type": "stream",
          "text": [
            "2\n"
          ],
          "name": "stdout"
        }
      ]
    },
    {
      "cell_type": "code",
      "metadata": {
        "id": "u8ToAvuonjUk",
        "colab_type": "code",
        "colab": {
          "base_uri": "https://localhost:8080/",
          "height": 34
        },
        "outputId": "1648ba86-17a6-4711-947b-767cecf8b016"
      },
      "source": [
        "print(digitPerkalianMinimum(144)) # 6 x 24"
      ],
      "execution_count": 7,
      "outputs": [
        {
          "output_type": "stream",
          "text": [
            "3\n"
          ],
          "name": "stdout"
        }
      ]
    },
    {
      "cell_type": "code",
      "metadata": {
        "id": "v9-pBV-NnkhD",
        "colab_type": "code",
        "colab": {}
      },
      "source": [
        ""
      ],
      "execution_count": 0,
      "outputs": []
    }
  ]
}