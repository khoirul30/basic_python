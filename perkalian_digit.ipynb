{
  "nbformat": 4,
  "nbformat_minor": 0,
  "metadata": {
    "colab": {
      "name": "perkalian_digit.ipynb",
      "provenance": []
    },
    "kernelspec": {
      "name": "python3",
      "display_name": "Python 3"
    }
  },
  "cells": [
    {
      "cell_type": "markdown",
      "metadata": {
        "id": "G61lT728Qk8A",
        "colab_type": "text"
      },
      "source": [
        "**Tujuan** :\n",
        "\n",
        "mengalikan setiap digit angka, namun perkalian nya harus menjadi satuan saja.\n",
        "\n",
        "contoh : \n",
        "\n",
        "perkalian digit dari angka 66. nah seharusnya hasil dari perkaliannya adalah 36, namun karena 36 masih merupakan angka puluhan makanya harus dikalikan lagi 3 x 6 yang hasil nya adalah 18. Lalu dikalikan lagi 1 x 8 yang hasilnya 8. Berhubung karena 8 sudah merupakan angka satuan maka hasil dari perkalian digit 66 adalah 8."
      ]
    },
    {
      "cell_type": "code",
      "metadata": {
        "id": "jN9cOYlnQao4",
        "colab_type": "code",
        "colab": {}
      },
      "source": [
        "def kaliTerusRekursif(angka):\n",
        "    if angka // 10 == 0:\n",
        "        return angka\n",
        "    else:\n",
        "        dig = angka % 10\n",
        "        angka = angka - dig\n",
        "        angka = angka / 10\n",
        "        total = dig * kaliTerusRekursif(angka)\n",
        "        if total // 10 == 0:\n",
        "            return int(total)\n",
        "        else:\n",
        "            return int(kaliTerusRekursif(total)) "
      ],
      "execution_count": 0,
      "outputs": []
    },
    {
      "cell_type": "code",
      "metadata": {
        "id": "_h6_SUw1RgTT",
        "colab_type": "code",
        "colab": {
          "base_uri": "https://localhost:8080/",
          "height": 102
        },
        "outputId": "1d31dad3-71cc-463c-859e-a72086686663"
      },
      "source": [
        "print(kaliTerusRekursif(66))   # 8\n",
        "print(kaliTerusRekursif(3))    # 3\n",
        "print(kaliTerusRekursif(24))   # 8\n",
        "print(kaliTerusRekursif(654))  # 0\n",
        "print(kaliTerusRekursif(1231)) # 6"
      ],
      "execution_count": 2,
      "outputs": [
        {
          "output_type": "stream",
          "text": [
            "8\n",
            "3\n",
            "8\n",
            "0\n",
            "6\n"
          ],
          "name": "stdout"
        }
      ]
    },
    {
      "cell_type": "code",
      "metadata": {
        "id": "BupzTMVZRmdK",
        "colab_type": "code",
        "colab": {}
      },
      "source": [
        ""
      ],
      "execution_count": 0,
      "outputs": []
    }
  ]
}