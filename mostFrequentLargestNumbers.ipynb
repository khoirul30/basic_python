{
  "nbformat": 4,
  "nbformat_minor": 0,
  "metadata": {
    "colab": {
      "name": "mostFrequentLargestNumbers.ipynb",
      "provenance": []
    },
    "kernelspec": {
      "name": "python3",
      "display_name": "Python 3"
    }
  },
  "cells": [
    {
      "cell_type": "markdown",
      "metadata": {
        "id": "Nl8_4pU2_1Ie",
        "colab_type": "text"
      },
      "source": [
        "**Tujuan :**\n",
        "\n",
        "Mencari angka terbesar yang terdapat pada sebuah list, lalu kita outputkan angkanya berapa dan banyaknya ada berapa"
      ]
    },
    {
      "cell_type": "code",
      "metadata": {
        "id": "FAcoxljG_nin",
        "colab_type": "code",
        "colab": {}
      },
      "source": [
        "def sorting(arrNumber):\n",
        "    # apabila list nya cuman 1 tidak usah diurutkan\n",
        "    if len(arrNumber)-1 > 0:    \n",
        "        maks_panjang = len(arrNumber)-1\n",
        "        y = True\n",
        "        while y:\n",
        "            y = False\n",
        "            for i in range(maks_panjang):\n",
        "                var_1= arrNumber[i]\n",
        "                var_2= arrNumber[i+1]\n",
        "                is_bigger= var_1 < var_2\n",
        "                if is_bigger:\n",
        "                    temp= var_1\n",
        "                    arrNumber[i]= var_2\n",
        "                    arrNumber[i+1]= var_1\n",
        "                    y = True\n",
        "            maks_panjang = maks_panjang -1    \n",
        "        return arrNumber\n",
        "    \n",
        "def getTotal(arrNumber):\n",
        "    panjang = len(arrNumber)-1\n",
        "    k = 1\n",
        "    for i in range(0, panjang):    \n",
        "        if arrNumber[0] == arrNumber[i+1]:\n",
        "            k += 1\n",
        "    return k\n",
        "    \n",
        "\n",
        "\n",
        "def mostFrequentLargestNumbers(arrNumber):\n",
        "    x = []\n",
        "    if arrNumber == x:\n",
        "        return (\" '' \")\n",
        "    else:\n",
        "        listSort = sorting(arrNumber)\n",
        "        countHighest = getTotal(listSort)\n",
        "        return ('angka paling besar adalah %i dan jumlah kemunculannya sebanyak %i kali' %(listSort[0], countHighest))"
      ],
      "execution_count": 0,
      "outputs": []
    },
    {
      "cell_type": "code",
      "metadata": {
        "id": "Gr9QJj7f_3-P",
        "colab_type": "code",
        "colab": {
          "base_uri": "https://localhost:8080/",
          "height": 34
        },
        "outputId": "55ba9870-f34e-4fa1-9832-4076e21f840b"
      },
      "source": [
        "print(mostFrequentLargestNumbers([2, 8, 4, 6, 8, 5, 8, 4]))"
      ],
      "execution_count": 4,
      "outputs": [
        {
          "output_type": "stream",
          "text": [
            "angka paling besar adalah 8 dan jumlah kemunculannya sebanyak 3 kali\n"
          ],
          "name": "stdout"
        }
      ]
    },
    {
      "cell_type": "code",
      "metadata": {
        "id": "t9ZIhgY__9gP",
        "colab_type": "code",
        "colab": {
          "base_uri": "https://localhost:8080/",
          "height": 34
        },
        "outputId": "76f4f8e2-4700-4a9b-8793-7d194a753b00"
      },
      "source": [
        "print(mostFrequentLargestNumbers([122, 122, 130, 100, 135, 100, 135, 150]))"
      ],
      "execution_count": 5,
      "outputs": [
        {
          "output_type": "stream",
          "text": [
            "angka paling besar adalah 150 dan jumlah kemunculannya sebanyak 1 kali\n"
          ],
          "name": "stdout"
        }
      ]
    },
    {
      "cell_type": "code",
      "metadata": {
        "id": "LJ6oT_Q7__Tf",
        "colab_type": "code",
        "colab": {
          "base_uri": "https://localhost:8080/",
          "height": 34
        },
        "outputId": "cad7a48f-d2c1-4b30-8581-014e381047b4"
      },
      "source": [
        "print(mostFrequentLargestNumbers([1, 1, 1, 1]))"
      ],
      "execution_count": 6,
      "outputs": [
        {
          "output_type": "stream",
          "text": [
            "angka paling besar adalah 1 dan jumlah kemunculannya sebanyak 4 kali\n"
          ],
          "name": "stdout"
        }
      ]
    },
    {
      "cell_type": "code",
      "metadata": {
        "id": "RAJJytS9AESO",
        "colab_type": "code",
        "colab": {
          "base_uri": "https://localhost:8080/",
          "height": 34
        },
        "outputId": "d8b901fd-8f11-4b07-da0f-e035f89f8066"
      },
      "source": [
        "print(mostFrequentLargestNumbers([]))"
      ],
      "execution_count": 7,
      "outputs": [
        {
          "output_type": "stream",
          "text": [
            " '' \n"
          ],
          "name": "stdout"
        }
      ]
    },
    {
      "cell_type": "code",
      "metadata": {
        "id": "Vcc55VQCAFSn",
        "colab_type": "code",
        "colab": {}
      },
      "source": [
        ""
      ],
      "execution_count": 0,
      "outputs": []
    }
  ]
}