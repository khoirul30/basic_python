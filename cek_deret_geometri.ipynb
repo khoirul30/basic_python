{
  "nbformat": 4,
  "nbformat_minor": 0,
  "metadata": {
    "colab": {
      "name": "cek_deret_geometri.ipynb",
      "provenance": []
    },
    "kernelspec": {
      "name": "python3",
      "display_name": "Python 3"
    }
  },
  "cells": [
    {
      "cell_type": "markdown",
      "metadata": {
        "id": "K9vWkavF8Vc_",
        "colab_type": "text"
      },
      "source": [
        "**Tujuan :**\n",
        "\n",
        "Membuat sebuah function untuk mengecek sebuah list, apakah list tersebut membentuk barisan geometri atau tidak."
      ]
    },
    {
      "cell_type": "code",
      "metadata": {
        "id": "qDveTDOX7hG9",
        "colab_type": "code",
        "colab": {}
      },
      "source": [
        "def tentukanDeretGeometri(arr):\n",
        "    rasio = arr[1] / arr[0]\n",
        "    panjang = len(arr)\n",
        "    for i in range(0, panjang-1):\n",
        "        if arr[i] * rasio == arr[i + 1]:\n",
        "            x = True\n",
        "        else:\n",
        "            return False\n",
        "    return x"
      ],
      "execution_count": 0,
      "outputs": []
    },
    {
      "cell_type": "code",
      "metadata": {
        "id": "_EN95Jfa8msP",
        "colab_type": "code",
        "colab": {
          "base_uri": "https://localhost:8080/",
          "height": 34
        },
        "outputId": "7b863884-5236-4a00-d768-fc551be8dbeb"
      },
      "source": [
        "print (tentukanDeretGeometri([1,3,9,27,81]))"
      ],
      "execution_count": 2,
      "outputs": [
        {
          "output_type": "stream",
          "text": [
            "True\n"
          ],
          "name": "stdout"
        }
      ]
    },
    {
      "cell_type": "code",
      "metadata": {
        "id": "HEI7YYBE8n8l",
        "colab_type": "code",
        "colab": {
          "base_uri": "https://localhost:8080/",
          "height": 34
        },
        "outputId": "f2f88061-7b56-4447-ccf3-703eb942f07d"
      },
      "source": [
        "print (tentukanDeretGeometri([2,4,8,16,32]))"
      ],
      "execution_count": 3,
      "outputs": [
        {
          "output_type": "stream",
          "text": [
            "True\n"
          ],
          "name": "stdout"
        }
      ]
    },
    {
      "cell_type": "code",
      "metadata": {
        "id": "1KVAHPlW8o_0",
        "colab_type": "code",
        "colab": {
          "base_uri": "https://localhost:8080/",
          "height": 34
        },
        "outputId": "5d9143ea-3c1c-4e4a-dc14-f9be307b572f"
      },
      "source": [
        "print (tentukanDeretGeometri([2,4,6,8]))"
      ],
      "execution_count": 4,
      "outputs": [
        {
          "output_type": "stream",
          "text": [
            "False\n"
          ],
          "name": "stdout"
        }
      ]
    },
    {
      "cell_type": "code",
      "metadata": {
        "id": "yA-17mZ78qpG",
        "colab_type": "code",
        "colab": {
          "base_uri": "https://localhost:8080/",
          "height": 34
        },
        "outputId": "b47e012f-05b8-4def-ab65-7bd4d5c92b9b"
      },
      "source": [
        "print (tentukanDeretGeometri([2,6,18,54]))"
      ],
      "execution_count": 5,
      "outputs": [
        {
          "output_type": "stream",
          "text": [
            "True\n"
          ],
          "name": "stdout"
        }
      ]
    },
    {
      "cell_type": "code",
      "metadata": {
        "id": "v6-KEiif8rnO",
        "colab_type": "code",
        "colab": {
          "base_uri": "https://localhost:8080/",
          "height": 34
        },
        "outputId": "8ce9511b-2bda-4c52-de95-7d4fcb94453c"
      },
      "source": [
        "print (tentukanDeretGeometri([1,2,3,4,7,9]))"
      ],
      "execution_count": 6,
      "outputs": [
        {
          "output_type": "stream",
          "text": [
            "False\n"
          ],
          "name": "stdout"
        }
      ]
    },
    {
      "cell_type": "code",
      "metadata": {
        "id": "Z50i3RfO8sZK",
        "colab_type": "code",
        "colab": {}
      },
      "source": [
        ""
      ],
      "execution_count": 0,
      "outputs": []
    }
  ]
}